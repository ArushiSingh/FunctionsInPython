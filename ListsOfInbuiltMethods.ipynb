{
 "cells": [
  {
   "cell_type": "markdown",
   "id": "91dfbaa9",
   "metadata": {},
   "source": [
    "# Functions\n",
    "1.\tInbuilt functions\n",
    "2.\tUser-defined functions\n",
    "3.\tRecursion\n",
    "4.\tLambda Expressions\n",
    "5.\tHigh Order Functions\n"
   ]
  },
  {
   "cell_type": "markdown",
   "id": "378202af",
   "metadata": {},
   "source": [
    "### 1. Inbuilt functions"
   ]
  },
  {
   "cell_type": "markdown",
   "id": "c7ecb2af",
   "metadata": {},
   "source": [
    "###### max()- to find the maximum in the sequence"
   ]
  },
  {
   "cell_type": "code",
   "execution_count": 1,
   "id": "177ec4ee",
   "metadata": {},
   "outputs": [
    {
     "data": {
      "text/plain": [
       "4"
      ]
     },
     "execution_count": 1,
     "metadata": {},
     "output_type": "execute_result"
    }
   ],
   "source": [
    "list1 = [1,2,3,4]\n",
    "max(list1)"
   ]
  },
  {
   "cell_type": "code",
   "execution_count": 2,
   "id": "bded5177",
   "metadata": {},
   "outputs": [
    {
     "data": {
      "text/plain": [
       "'y'"
      ]
     },
     "execution_count": 2,
     "metadata": {},
     "output_type": "execute_result"
    }
   ],
   "source": [
    "max('Python')"
   ]
  },
  {
   "cell_type": "markdown",
   "id": "f0af854f",
   "metadata": {},
   "source": [
    "###### min()- to find the minimum in the sequence"
   ]
  },
  {
   "cell_type": "code",
   "execution_count": 3,
   "id": "d0d8d6e1",
   "metadata": {},
   "outputs": [
    {
     "data": {
      "text/plain": [
       "'P'"
      ]
     },
     "execution_count": 3,
     "metadata": {},
     "output_type": "execute_result"
    }
   ],
   "source": [
    "min(\"Python\")"
   ]
  },
  {
   "cell_type": "markdown",
   "id": "1ee90799",
   "metadata": {},
   "source": [
    "###### len()- to find the length of the squence"
   ]
  },
  {
   "cell_type": "code",
   "execution_count": 4,
   "id": "52374a0d",
   "metadata": {},
   "outputs": [
    {
     "data": {
      "text/plain": [
       "6"
      ]
     },
     "execution_count": 4,
     "metadata": {},
     "output_type": "execute_result"
    }
   ],
   "source": [
    "len('Python')"
   ]
  },
  {
   "cell_type": "markdown",
   "id": "a47d27aa",
   "metadata": {},
   "source": [
    "###### sum()- to get the sum of the integer items in the list or tuples or sets"
   ]
  },
  {
   "cell_type": "code",
   "execution_count": 7,
   "id": "f8987c1f",
   "metadata": {},
   "outputs": [
    {
     "data": {
      "text/plain": [
       "9"
      ]
     },
     "execution_count": 7,
     "metadata": {},
     "output_type": "execute_result"
    }
   ],
   "source": [
    "list1 = [2,4,3] # list\n",
    "sum(list1)"
   ]
  },
  {
   "cell_type": "code",
   "execution_count": 9,
   "id": "eaff4d59",
   "metadata": {},
   "outputs": [
    {
     "data": {
      "text/plain": [
       "9"
      ]
     },
     "execution_count": 9,
     "metadata": {},
     "output_type": "execute_result"
    }
   ],
   "source": [
    "tup1= (2,3,4) #tuple\n",
    "sum(tup1)"
   ]
  },
  {
   "cell_type": "code",
   "execution_count": 10,
   "id": "29c7e99d",
   "metadata": {},
   "outputs": [
    {
     "data": {
      "text/plain": [
       "9"
      ]
     },
     "execution_count": 10,
     "metadata": {},
     "output_type": "execute_result"
    }
   ],
   "source": [
    "set1={2,3,4} #set\n",
    "sum(set1)"
   ]
  },
  {
   "cell_type": "code",
   "execution_count": 11,
   "id": "08f8f198",
   "metadata": {},
   "outputs": [
    {
     "data": {
      "text/plain": [
       "6"
      ]
     },
     "execution_count": 11,
     "metadata": {},
     "output_type": "execute_result"
    }
   ],
   "source": [
    "#in dictionary sum will give the sum of all the keys in the dictionary\n",
    "dic = {1:10,2:20,3:30} #dictionary\n",
    "sum(dic) #sum of all the keys"
   ]
  },
  {
   "cell_type": "markdown",
   "id": "90e1482f",
   "metadata": {},
   "source": [
    "# Strings - Immutable"
   ]
  },
  {
   "cell_type": "markdown",
   "id": "9d13e16d",
   "metadata": {},
   "source": [
    "Can acess each character of a string through indexing or slicing"
   ]
  },
  {
   "cell_type": "markdown",
   "id": "a9be890d",
   "metadata": {},
   "source": [
    "## Operations in strings"
   ]
  },
  {
   "cell_type": "markdown",
   "id": "3e5647d6",
   "metadata": {},
   "source": [
    "###### + operator --> Concatenate the strings"
   ]
  },
  {
   "cell_type": "code",
   "execution_count": 12,
   "id": "6e438cb6",
   "metadata": {},
   "outputs": [
    {
     "data": {
      "text/plain": [
       "'HelloPython'"
      ]
     },
     "execution_count": 12,
     "metadata": {},
     "output_type": "execute_result"
    }
   ],
   "source": [
    "s1 = 'Hello'\n",
    "s2 = 'Python'\n",
    "s1+s2"
   ]
  },
  {
   "cell_type": "markdown",
   "id": "fdb53729",
   "metadata": {},
   "source": [
    "###### * operator"
   ]
  },
  {
   "cell_type": "code",
   "execution_count": 13,
   "id": "dcc2f3ec",
   "metadata": {},
   "outputs": [
    {
     "data": {
      "text/plain": [
       "'HelloHello'"
      ]
     },
     "execution_count": 13,
     "metadata": {},
     "output_type": "execute_result"
    }
   ],
   "source": [
    "#Will give the twice Hello\n",
    "s1 * 2"
   ]
  },
  {
   "cell_type": "code",
   "execution_count": 14,
   "id": "50eea184",
   "metadata": {},
   "outputs": [
    {
     "data": {
      "text/plain": [
       "'AAAA'"
      ]
     },
     "execution_count": 14,
     "metadata": {},
     "output_type": "execute_result"
    }
   ],
   "source": [
    "'A'*4 # print 4 times A"
   ]
  },
  {
   "cell_type": "markdown",
   "id": "38322aa9",
   "metadata": {},
   "source": [
    "###### Membership operator"
   ]
  },
  {
   "cell_type": "code",
   "execution_count": 15,
   "id": "14af6a31",
   "metadata": {},
   "outputs": [
    {
     "data": {
      "text/plain": [
       "False"
      ]
     },
     "execution_count": 15,
     "metadata": {},
     "output_type": "execute_result"
    }
   ],
   "source": [
    "'s' in 'Python'"
   ]
  },
  {
   "cell_type": "code",
   "execution_count": 16,
   "id": "a1b9c800",
   "metadata": {},
   "outputs": [
    {
     "data": {
      "text/plain": [
       "True"
      ]
     },
     "execution_count": 16,
     "metadata": {},
     "output_type": "execute_result"
    }
   ],
   "source": [
    "'s' not in 'Python'"
   ]
  },
  {
   "cell_type": "markdown",
   "id": "4d19e5ae",
   "metadata": {},
   "source": [
    "## String Methods"
   ]
  },
  {
   "cell_type": "markdown",
   "id": "54df0e28",
   "metadata": {},
   "source": [
    "###### capitalize()\tConverts the first character to upper case"
   ]
  },
  {
   "cell_type": "code",
   "execution_count": 20,
   "id": "2996f64e",
   "metadata": {},
   "outputs": [
    {
     "data": {
      "text/plain": [
       "'Python is a scripting language'"
      ]
     },
     "execution_count": 20,
     "metadata": {},
     "output_type": "execute_result"
    }
   ],
   "source": [
    "s1 = 'Python is a scriPting Language'\n",
    "s1.capitalize()"
   ]
  },
  {
   "cell_type": "markdown",
   "id": "df022265",
   "metadata": {},
   "source": [
    "###### swapcase()\tSwaps cases, lower case becomes upper case and vice versa"
   ]
  },
  {
   "cell_type": "code",
   "execution_count": 2,
   "id": "61465c21",
   "metadata": {},
   "outputs": [
    {
     "data": {
      "text/plain": [
       "'pYTHON IS A SCRIpTING lANGUAGE'"
      ]
     },
     "execution_count": 2,
     "metadata": {},
     "output_type": "execute_result"
    }
   ],
   "source": [
    "s1.swapcase()"
   ]
  },
  {
   "cell_type": "markdown",
   "id": "21b5bc0e",
   "metadata": {},
   "source": [
    "###### title()\tConverts the first character of each word to upper case"
   ]
  },
  {
   "cell_type": "code",
   "execution_count": 27,
   "id": "7bda6e3f",
   "metadata": {},
   "outputs": [
    {
     "data": {
      "text/plain": [
       "'Python Is A Scripting Language'"
      ]
     },
     "execution_count": 27,
     "metadata": {},
     "output_type": "execute_result"
    }
   ],
   "source": [
    "s1.title()"
   ]
  },
  {
   "cell_type": "markdown",
   "id": "fe570032",
   "metadata": {},
   "source": [
    "###### lower()\tConverts a string into lower case"
   ]
  },
  {
   "cell_type": "code",
   "execution_count": 29,
   "id": "9f233b90",
   "metadata": {},
   "outputs": [
    {
     "data": {
      "text/plain": [
       "'python is a scripting language'"
      ]
     },
     "execution_count": 29,
     "metadata": {},
     "output_type": "execute_result"
    }
   ],
   "source": [
    "s1.lower()"
   ]
  },
  {
   "cell_type": "markdown",
   "id": "dc9ba93f",
   "metadata": {},
   "source": [
    "###### upper()\tConverts a string into upper case"
   ]
  },
  {
   "cell_type": "code",
   "execution_count": 28,
   "id": "a14135c5",
   "metadata": {},
   "outputs": [
    {
     "data": {
      "text/plain": [
       "'PYTHON IS A SCRIPTING LANGUAGE'"
      ]
     },
     "execution_count": 28,
     "metadata": {},
     "output_type": "execute_result"
    }
   ],
   "source": [
    "s1.upper()"
   ]
  },
  {
   "cell_type": "markdown",
   "id": "9388eb67",
   "metadata": {},
   "source": [
    "###### replace()\tReturns a string where a specified value is replaced with a specified value"
   ]
  },
  {
   "cell_type": "code",
   "execution_count": 31,
   "id": "bd3ed985",
   "metadata": {},
   "outputs": [
    {
     "data": {
      "text/plain": [
       "'Python ix a xcriPting Language'"
      ]
     },
     "execution_count": 31,
     "metadata": {},
     "output_type": "execute_result"
    }
   ],
   "source": [
    "s1.replace('s','x')"
   ]
  },
  {
   "cell_type": "markdown",
   "id": "3840224f",
   "metadata": {},
   "source": [
    "###### find()\tSearches the string for a specified value and returns the position of where it was found"
   ]
  },
  {
   "cell_type": "code",
   "execution_count": 11,
   "id": "76049d88",
   "metadata": {},
   "outputs": [
    {
     "data": {
      "text/plain": [
       "-1"
      ]
     },
     "execution_count": 11,
     "metadata": {},
     "output_type": "execute_result"
    }
   ],
   "source": [
    "s1.find('z')"
   ]
  },
  {
   "cell_type": "code",
   "execution_count": 12,
   "id": "171269cf",
   "metadata": {},
   "outputs": [
    {
     "data": {
      "text/plain": [
       "10"
      ]
     },
     "execution_count": 12,
     "metadata": {},
     "output_type": "execute_result"
    }
   ],
   "source": [
    "s1.find('a')"
   ]
  },
  {
   "cell_type": "code",
   "execution_count": 13,
   "id": "47784a8d",
   "metadata": {},
   "outputs": [
    {
     "data": {
      "text/plain": [
       "-1"
      ]
     },
     "execution_count": 13,
     "metadata": {},
     "output_type": "execute_result"
    }
   ],
   "source": [
    "s1.find('p')"
   ]
  },
  {
   "cell_type": "code",
   "execution_count": 14,
   "id": "2f32d419",
   "metadata": {},
   "outputs": [
    {
     "data": {
      "text/plain": [
       "0"
      ]
     },
     "execution_count": 14,
     "metadata": {},
     "output_type": "execute_result"
    }
   ],
   "source": [
    "s1.find('P')"
   ]
  },
  {
   "cell_type": "code",
   "execution_count": 15,
   "id": "2ab3e56a",
   "metadata": {},
   "outputs": [
    {
     "data": {
      "text/plain": [
       "22"
      ]
     },
     "execution_count": 15,
     "metadata": {},
     "output_type": "execute_result"
    }
   ],
   "source": [
    "s1.find('L')"
   ]
  },
  {
   "cell_type": "code",
   "execution_count": 16,
   "id": "866f3e57",
   "metadata": {},
   "outputs": [
    {
     "data": {
      "text/plain": [
       "-1"
      ]
     },
     "execution_count": 16,
     "metadata": {},
     "output_type": "execute_result"
    }
   ],
   "source": [
    "s1.find('l')"
   ]
  },
  {
   "cell_type": "markdown",
   "id": "6ea284cb",
   "metadata": {},
   "source": [
    "###### rfind() -  find the last occurence of a specified value and returns the index number if found"
   ]
  },
  {
   "cell_type": "code",
   "execution_count": 26,
   "id": "b5174d8f",
   "metadata": {},
   "outputs": [
    {
     "data": {
      "text/plain": [
       "27"
      ]
     },
     "execution_count": 26,
     "metadata": {},
     "output_type": "execute_result"
    }
   ],
   "source": [
    "s1.rfind('a')"
   ]
  },
  {
   "cell_type": "code",
   "execution_count": 27,
   "id": "d65ae85e",
   "metadata": {},
   "outputs": [
    {
     "data": {
      "text/plain": [
       "10"
      ]
     },
     "execution_count": 27,
     "metadata": {},
     "output_type": "execute_result"
    }
   ],
   "source": [
    "#finds the first occurence of the character\n",
    "s1.find('a')"
   ]
  },
  {
   "cell_type": "code",
   "execution_count": 28,
   "id": "837f599d",
   "metadata": {},
   "outputs": [
    {
     "data": {
      "text/plain": [
       "-1"
      ]
     },
     "execution_count": 28,
     "metadata": {},
     "output_type": "execute_result"
    }
   ],
   "source": [
    "s1.rfind('x')"
   ]
  },
  {
   "cell_type": "markdown",
   "id": "e2f724cf",
   "metadata": {},
   "source": [
    "###### endswith()\tReturns true if the string ends with the specified value"
   ]
  },
  {
   "cell_type": "code",
   "execution_count": 17,
   "id": "cf88b26a",
   "metadata": {},
   "outputs": [
    {
     "data": {
      "text/plain": [
       "True"
      ]
     },
     "execution_count": 17,
     "metadata": {},
     "output_type": "execute_result"
    }
   ],
   "source": [
    "s1.endswith('e')"
   ]
  },
  {
   "cell_type": "code",
   "execution_count": 18,
   "id": "79dea112",
   "metadata": {},
   "outputs": [
    {
     "data": {
      "text/plain": [
       "False"
      ]
     },
     "execution_count": 18,
     "metadata": {},
     "output_type": "execute_result"
    }
   ],
   "source": [
    "s1.endswith('.')"
   ]
  },
  {
   "cell_type": "markdown",
   "id": "5114dec2",
   "metadata": {},
   "source": [
    "###### startswith()\tReturns true if the string starts with the specified value"
   ]
  },
  {
   "cell_type": "code",
   "execution_count": 19,
   "id": "d8ae792a",
   "metadata": {},
   "outputs": [
    {
     "data": {
      "text/plain": [
       "True"
      ]
     },
     "execution_count": 19,
     "metadata": {},
     "output_type": "execute_result"
    }
   ],
   "source": [
    "s1.startswith('P')"
   ]
  },
  {
   "cell_type": "code",
   "execution_count": 20,
   "id": "7c0521eb",
   "metadata": {},
   "outputs": [
    {
     "data": {
      "text/plain": [
       "False"
      ]
     },
     "execution_count": 20,
     "metadata": {},
     "output_type": "execute_result"
    }
   ],
   "source": [
    "s1.startswith('p')"
   ]
  },
  {
   "cell_type": "markdown",
   "id": "92683c72",
   "metadata": {},
   "source": [
    "###### split()\tSplits the string at the specified separator, and returns a list"
   ]
  },
  {
   "cell_type": "code",
   "execution_count": 22,
   "id": "c84079c3",
   "metadata": {},
   "outputs": [
    {
     "data": {
      "text/plain": [
       "['Python', 'is', 'a', 'scriPting', 'Language']"
      ]
     },
     "execution_count": 22,
     "metadata": {},
     "output_type": "execute_result"
    }
   ],
   "source": [
    "s1.split()"
   ]
  },
  {
   "cell_type": "code",
   "execution_count": 23,
   "id": "029e394e",
   "metadata": {},
   "outputs": [
    {
     "data": {
      "text/plain": [
       "['Python i', ' a ', 'criPting Language']"
      ]
     },
     "execution_count": 23,
     "metadata": {},
     "output_type": "execute_result"
    }
   ],
   "source": [
    "s1.split('s')"
   ]
  },
  {
   "cell_type": "code",
   "execution_count": 26,
   "id": "f1ee3052",
   "metadata": {},
   "outputs": [
    {
     "data": {
      "text/plain": [
       "['apple', ' banana', ' orange', ' pear']"
      ]
     },
     "execution_count": 26,
     "metadata": {},
     "output_type": "execute_result"
    }
   ],
   "source": [
    "s2 = 'apple, banana, orange, pear'\n",
    "s2.split(',')"
   ]
  },
  {
   "cell_type": "markdown",
   "id": "8a4ebead",
   "metadata": {},
   "source": [
    "###### join()\tConverts the elements of an iterable into a string"
   ]
  },
  {
   "cell_type": "code",
   "execution_count": 40,
   "id": "bb9b649b",
   "metadata": {},
   "outputs": [
    {
     "data": {
      "text/plain": [
       "['BMW', 'Mercedes', 'Jaguar', 'Audi']"
      ]
     },
     "execution_count": 40,
     "metadata": {},
     "output_type": "execute_result"
    }
   ],
   "source": [
    "list1 = ['BMW','Mercedes','Jaguar','Audi']\n",
    "list1"
   ]
  },
  {
   "cell_type": "code",
   "execution_count": 56,
   "id": "29ea746a",
   "metadata": {},
   "outputs": [
    {
     "data": {
      "text/plain": [
       "'BMW--Mercedes--Jaguar--Audi'"
      ]
     },
     "execution_count": 56,
     "metadata": {},
     "output_type": "execute_result"
    }
   ],
   "source": [
    "'--'.join(list1)"
   ]
  },
  {
   "cell_type": "markdown",
   "id": "c106e1d7",
   "metadata": {},
   "source": [
    "###### count()\tReturns the number of times a specified value occurs in a string"
   ]
  },
  {
   "cell_type": "code",
   "execution_count": 58,
   "id": "bcee1c25",
   "metadata": {},
   "outputs": [
    {
     "data": {
      "text/plain": [
       "'Python is a scriPting Language'"
      ]
     },
     "execution_count": 58,
     "metadata": {},
     "output_type": "execute_result"
    }
   ],
   "source": [
    "s1"
   ]
  },
  {
   "cell_type": "code",
   "execution_count": 61,
   "id": "67bc2351",
   "metadata": {},
   "outputs": [
    {
     "data": {
      "text/plain": [
       "3"
      ]
     },
     "execution_count": 61,
     "metadata": {},
     "output_type": "execute_result"
    }
   ],
   "source": [
    "s1.count('a')"
   ]
  },
  {
   "cell_type": "markdown",
   "id": "6d691041",
   "metadata": {},
   "source": [
    "###### rstrip() - to remove the specified value from the right side, by default it removes spaces"
   ]
  },
  {
   "cell_type": "code",
   "execution_count": 29,
   "id": "b4f69b8a",
   "metadata": {},
   "outputs": [
    {
     "data": {
      "text/plain": [
       "'Hello'"
      ]
     },
     "execution_count": 29,
     "metadata": {},
     "output_type": "execute_result"
    }
   ],
   "source": [
    "s1 = 'Hello '\n",
    "s1.rstrip()"
   ]
  },
  {
   "cell_type": "code",
   "execution_count": 30,
   "id": "367015fe",
   "metadata": {},
   "outputs": [
    {
     "data": {
      "text/plain": [
       "'HEllo'"
      ]
     },
     "execution_count": 30,
     "metadata": {},
     "output_type": "execute_result"
    }
   ],
   "source": [
    "s1 = 'HEllo###'\n",
    "s1.rstrip('#')"
   ]
  },
  {
   "cell_type": "markdown",
   "id": "af35b119",
   "metadata": {},
   "source": [
    "###### lstrip() - to remove the specified value from the left side, by default it removes spaces"
   ]
  },
  {
   "cell_type": "code",
   "execution_count": 31,
   "id": "08f00b3a",
   "metadata": {},
   "outputs": [
    {
     "data": {
      "text/plain": [
       "'Hello '"
      ]
     },
     "execution_count": 31,
     "metadata": {},
     "output_type": "execute_result"
    }
   ],
   "source": [
    "s1 = '  Hello '\n",
    "s1.lstrip()"
   ]
  },
  {
   "cell_type": "code",
   "execution_count": 33,
   "id": "7a5b7c2d",
   "metadata": {},
   "outputs": [
    {
     "data": {
      "text/plain": [
       "'HEllo###'"
      ]
     },
     "execution_count": 33,
     "metadata": {},
     "output_type": "execute_result"
    }
   ],
   "source": [
    "s1 = '####HEllo###'\n",
    "s1.lstrip('#')"
   ]
  },
  {
   "cell_type": "code",
   "execution_count": null,
   "id": "89b39928",
   "metadata": {},
   "outputs": [],
   "source": [
    "###### strip() - to remove the specified value from the both sides, by default it removes spaces"
   ]
  },
  {
   "cell_type": "code",
   "execution_count": 35,
   "id": "b7f3b058",
   "metadata": {},
   "outputs": [
    {
     "data": {
      "text/plain": [
       "'Hello'"
      ]
     },
     "execution_count": 35,
     "metadata": {},
     "output_type": "execute_result"
    }
   ],
   "source": [
    "s1 = '  Hello '\n",
    "s1.strip()"
   ]
  },
  {
   "cell_type": "code",
   "execution_count": 39,
   "id": "64d11a7d",
   "metadata": {},
   "outputs": [
    {
     "data": {
      "text/plain": [
       "'HEllo'"
      ]
     },
     "execution_count": 39,
     "metadata": {},
     "output_type": "execute_result"
    }
   ],
   "source": [
    "s1 = '@###HEllo###'\n",
    "s1.strip('@#')"
   ]
  },
  {
   "cell_type": "code",
   "execution_count": 40,
   "id": "a25a3b86",
   "metadata": {},
   "outputs": [
    {
     "data": {
      "text/plain": [
       "'HEllo'"
      ]
     },
     "execution_count": 40,
     "metadata": {},
     "output_type": "execute_result"
    }
   ],
   "source": [
    "s1 = '@#HEllo###'\n",
    "s1.strip('#@')"
   ]
  },
  {
   "cell_type": "markdown",
   "id": "1d4d66d9",
   "metadata": {},
   "source": [
    "###### index()\tSearches the string for a specified value and returns the position of where it was found"
   ]
  },
  {
   "cell_type": "code",
   "execution_count": 41,
   "id": "033a2f35",
   "metadata": {},
   "outputs": [
    {
     "data": {
      "text/plain": [
       "1"
      ]
     },
     "execution_count": 41,
     "metadata": {},
     "output_type": "execute_result"
    }
   ],
   "source": [
    "s1 = 'Hello'\n",
    "s1.index('e')"
   ]
  },
  {
   "cell_type": "code",
   "execution_count": 42,
   "id": "6d7fcf73",
   "metadata": {},
   "outputs": [
    {
     "ename": "ValueError",
     "evalue": "substring not found",
     "output_type": "error",
     "traceback": [
      "\u001b[1;31m---------------------------------------------------------------------------\u001b[0m",
      "\u001b[1;31mValueError\u001b[0m                                Traceback (most recent call last)",
      "\u001b[1;32m~\\AppData\\Local\\Temp\\ipykernel_13240\\757536014.py\u001b[0m in \u001b[0;36m<module>\u001b[1;34m\u001b[0m\n\u001b[1;32m----> 1\u001b[1;33m \u001b[0ms1\u001b[0m\u001b[1;33m.\u001b[0m\u001b[0mindex\u001b[0m\u001b[1;33m(\u001b[0m\u001b[1;34m'z'\u001b[0m\u001b[1;33m)\u001b[0m\u001b[1;33m\u001b[0m\u001b[1;33m\u001b[0m\u001b[0m\n\u001b[0m",
      "\u001b[1;31mValueError\u001b[0m: substring not found"
     ]
    }
   ],
   "source": [
    "s1.index('z')"
   ]
  },
  {
   "cell_type": "markdown",
   "id": "f95aba74",
   "metadata": {},
   "source": [
    "###### format()\tFormats specified values in a string"
   ]
  },
  {
   "cell_type": "code",
   "execution_count": 47,
   "id": "1ea6f72e",
   "metadata": {},
   "outputs": [
    {
     "data": {
      "text/plain": [
       "'Hello, how are you 3'"
      ]
     },
     "execution_count": 47,
     "metadata": {},
     "output_type": "execute_result"
    }
   ],
   "source": [
    "\n",
    "l1 = [1,2,3]\n",
    "'Hello, how are you {}'.format(l1[2])"
   ]
  },
  {
   "cell_type": "markdown",
   "id": "459152ee",
   "metadata": {},
   "source": [
    "###### islower()\tReturns True if all characters in the string are lower case"
   ]
  },
  {
   "cell_type": "code",
   "execution_count": 48,
   "id": "1e2447cd",
   "metadata": {},
   "outputs": [
    {
     "data": {
      "text/plain": [
       "True"
      ]
     },
     "execution_count": 48,
     "metadata": {},
     "output_type": "execute_result"
    }
   ],
   "source": [
    "s1 = 'hello'\n",
    "s1.islower()"
   ]
  },
  {
   "cell_type": "code",
   "execution_count": 49,
   "id": "edb4b755",
   "metadata": {},
   "outputs": [
    {
     "data": {
      "text/plain": [
       "False"
      ]
     },
     "execution_count": 49,
     "metadata": {},
     "output_type": "execute_result"
    }
   ],
   "source": [
    "s1 = \"Hello\"\n",
    "s1.islower()"
   ]
  },
  {
   "cell_type": "markdown",
   "id": "450c8e6f",
   "metadata": {},
   "source": [
    "###### isupper()\tReturns True if all characters in the string are upper case"
   ]
  },
  {
   "cell_type": "code",
   "execution_count": 51,
   "id": "5f55f8b1",
   "metadata": {
    "scrolled": true
   },
   "outputs": [
    {
     "data": {
      "text/plain": [
       "True"
      ]
     },
     "execution_count": 51,
     "metadata": {},
     "output_type": "execute_result"
    }
   ],
   "source": [
    "s1 = \"HELLO\"\n",
    "s1.isupper()"
   ]
  },
  {
   "cell_type": "code",
   "execution_count": 50,
   "id": "3aa83baf",
   "metadata": {},
   "outputs": [
    {
     "data": {
      "text/plain": [
       "False"
      ]
     },
     "execution_count": 50,
     "metadata": {},
     "output_type": "execute_result"
    }
   ],
   "source": [
    "s1 = 'Hello'\n",
    "s1.isupper()"
   ]
  },
  {
   "cell_type": "markdown",
   "id": "7991c964",
   "metadata": {},
   "source": [
    "###### isnumeric()\tReturns True if all characters in the string are numeric"
   ]
  },
  {
   "cell_type": "code",
   "execution_count": 52,
   "id": "2810f7f2",
   "metadata": {},
   "outputs": [
    {
     "data": {
      "text/plain": [
       "True"
      ]
     },
     "execution_count": 52,
     "metadata": {},
     "output_type": "execute_result"
    }
   ],
   "source": [
    "s1 = '123'\n",
    "s1.isnumeric()"
   ]
  },
  {
   "cell_type": "code",
   "execution_count": 53,
   "id": "1fc65419",
   "metadata": {},
   "outputs": [
    {
     "data": {
      "text/plain": [
       "False"
      ]
     },
     "execution_count": 53,
     "metadata": {},
     "output_type": "execute_result"
    }
   ],
   "source": [
    "s1='Hello123'\n",
    "s1.isnumeric()"
   ]
  },
  {
   "cell_type": "markdown",
   "id": "6171d5e6",
   "metadata": {},
   "source": [
    "###### isspace()\tReturns True if all characters in the string are whitespaces"
   ]
  },
  {
   "cell_type": "code",
   "execution_count": 54,
   "id": "f70da00e",
   "metadata": {},
   "outputs": [
    {
     "data": {
      "text/plain": [
       "True"
      ]
     },
     "execution_count": 54,
     "metadata": {},
     "output_type": "execute_result"
    }
   ],
   "source": [
    "s1='    '\n",
    "s1.isspace()"
   ]
  },
  {
   "cell_type": "code",
   "execution_count": 55,
   "id": "01832ac4",
   "metadata": {},
   "outputs": [
    {
     "data": {
      "text/plain": [
       "False"
      ]
     },
     "execution_count": 55,
     "metadata": {},
     "output_type": "execute_result"
    }
   ],
   "source": [
    "s1='H    '\n",
    "s1.isspace()"
   ]
  },
  {
   "cell_type": "markdown",
   "id": "e95856d5",
   "metadata": {},
   "source": [
    "###### istitle()\tReturns True if the string follows the rules of a title"
   ]
  },
  {
   "cell_type": "code",
   "execution_count": 58,
   "id": "95012d03",
   "metadata": {},
   "outputs": [
    {
     "data": {
      "text/plain": [
       "True"
      ]
     },
     "execution_count": 58,
     "metadata": {},
     "output_type": "execute_result"
    }
   ],
   "source": [
    "s1= \"Hello World\"\n",
    "s1.istitle()"
   ]
  },
  {
   "cell_type": "code",
   "execution_count": 59,
   "id": "e184365a",
   "metadata": {},
   "outputs": [
    {
     "data": {
      "text/plain": [
       "False"
      ]
     },
     "execution_count": 59,
     "metadata": {},
     "output_type": "execute_result"
    }
   ],
   "source": [
    "s1= \"Hello world\"\n",
    "s1.istitle()"
   ]
  },
  {
   "cell_type": "markdown",
   "id": "26970e57",
   "metadata": {},
   "source": [
    "###### isdigit()\tReturns True if all characters in the string are digits"
   ]
  },
  {
   "cell_type": "code",
   "execution_count": 60,
   "id": "be142067",
   "metadata": {},
   "outputs": [
    {
     "data": {
      "text/plain": [
       "True"
      ]
     },
     "execution_count": 60,
     "metadata": {},
     "output_type": "execute_result"
    }
   ],
   "source": [
    "s1 = '123'\n",
    "s1.isdigit()"
   ]
  },
  {
   "cell_type": "code",
   "execution_count": 61,
   "id": "8f695dc1",
   "metadata": {},
   "outputs": [
    {
     "data": {
      "text/plain": [
       "False"
      ]
     },
     "execution_count": 61,
     "metadata": {},
     "output_type": "execute_result"
    }
   ],
   "source": [
    "s1 = '12a3'\n",
    "s1.isdigit()"
   ]
  },
  {
   "cell_type": "markdown",
   "id": "5017ad48",
   "metadata": {},
   "source": [
    "###### isalnum()\tReturns True if all characters in the string are alphanumeric"
   ]
  },
  {
   "cell_type": "code",
   "execution_count": 62,
   "id": "e273a24c",
   "metadata": {},
   "outputs": [
    {
     "data": {
      "text/plain": [
       "True"
      ]
     },
     "execution_count": 62,
     "metadata": {},
     "output_type": "execute_result"
    }
   ],
   "source": [
    "s1 = 'avc123'\n",
    "s1.isalnum()"
   ]
  },
  {
   "cell_type": "code",
   "execution_count": 63,
   "id": "b62c2eb5",
   "metadata": {},
   "outputs": [
    {
     "data": {
      "text/plain": [
       "True"
      ]
     },
     "execution_count": 63,
     "metadata": {},
     "output_type": "execute_result"
    }
   ],
   "source": [
    "s1 = 'avc'\n",
    "s1.isalnum()"
   ]
  },
  {
   "cell_type": "markdown",
   "id": "6cf3d165",
   "metadata": {},
   "source": [
    "###### isalpha()\tReturns True if all characters in the string are in the alphabet"
   ]
  },
  {
   "cell_type": "code",
   "execution_count": 65,
   "id": "ad523c46",
   "metadata": {},
   "outputs": [
    {
     "data": {
      "text/plain": [
       "True"
      ]
     },
     "execution_count": 65,
     "metadata": {},
     "output_type": "execute_result"
    }
   ],
   "source": [
    "s1 = 'avc'\n",
    "s1.isalpha()"
   ]
  },
  {
   "cell_type": "code",
   "execution_count": 67,
   "id": "f616b369",
   "metadata": {},
   "outputs": [
    {
     "data": {
      "text/plain": [
       "False"
      ]
     },
     "execution_count": 67,
     "metadata": {},
     "output_type": "execute_result"
    }
   ],
   "source": [
    "s1 = '12as'\n",
    "s1.isalpha()"
   ]
  },
  {
   "cell_type": "code",
   "execution_count": 68,
   "id": "44f2efc2",
   "metadata": {},
   "outputs": [
    {
     "data": {
      "text/plain": [
       "False"
      ]
     },
     "execution_count": 68,
     "metadata": {},
     "output_type": "execute_result"
    }
   ],
   "source": [
    "s1 = '@as'\n",
    "s1.isalpha()"
   ]
  },
  {
   "cell_type": "markdown",
   "id": "50146745",
   "metadata": {},
   "source": [
    "# Lists -> mutable"
   ]
  },
  {
   "cell_type": "markdown",
   "id": "540e5220",
   "metadata": {},
   "source": [
    "## Operations in Lists"
   ]
  },
  {
   "cell_type": "markdown",
   "id": "f0634a5c",
   "metadata": {},
   "source": [
    "###### + operator --> Concatenate the lists"
   ]
  },
  {
   "cell_type": "code",
   "execution_count": 69,
   "id": "1088701f",
   "metadata": {},
   "outputs": [
    {
     "data": {
      "text/plain": [
       "[1, 2, 3, 7, 8, 9]"
      ]
     },
     "execution_count": 69,
     "metadata": {},
     "output_type": "execute_result"
    }
   ],
   "source": [
    "l1 = [1,2,3]\n",
    "l2 = [7,8,9]\n",
    "l1 + l2"
   ]
  },
  {
   "cell_type": "markdown",
   "id": "799268f2",
   "metadata": {},
   "source": [
    "###### * operator in list "
   ]
  },
  {
   "cell_type": "code",
   "execution_count": 119,
   "id": "75226685",
   "metadata": {},
   "outputs": [
    {
     "data": {
      "text/plain": [
       "[1, 2, 3, 1, 2, 3]"
      ]
     },
     "execution_count": 119,
     "metadata": {},
     "output_type": "execute_result"
    }
   ],
   "source": [
    "l1 = [1,2,3]\n",
    "l1 * 2"
   ]
  },
  {
   "cell_type": "code",
   "execution_count": 120,
   "id": "125479ad",
   "metadata": {},
   "outputs": [
    {
     "data": {
      "text/plain": [
       "['P', 'y', 'P', 'y', 'P', 'y']"
      ]
     },
     "execution_count": 120,
     "metadata": {},
     "output_type": "execute_result"
    }
   ],
   "source": [
    "l1 = ['P',\"y\"]\n",
    "l1 * 3"
   ]
  },
  {
   "cell_type": "markdown",
   "id": "074af4ec",
   "metadata": {},
   "source": [
    "###### Membership operator"
   ]
  },
  {
   "cell_type": "code",
   "execution_count": 167,
   "id": "40e4446b",
   "metadata": {},
   "outputs": [
    {
     "data": {
      "text/plain": [
       "True"
      ]
     },
     "execution_count": 167,
     "metadata": {},
     "output_type": "execute_result"
    }
   ],
   "source": [
    "l1 = [1,2,3]\n",
    "3 in l1"
   ]
  },
  {
   "cell_type": "code",
   "execution_count": 168,
   "id": "8b9a19e5",
   "metadata": {},
   "outputs": [
    {
     "data": {
      "text/plain": [
       "False"
      ]
     },
     "execution_count": 168,
     "metadata": {},
     "output_type": "execute_result"
    }
   ],
   "source": [
    "3 not in l1"
   ]
  },
  {
   "cell_type": "markdown",
   "id": "d42ab7e5",
   "metadata": {},
   "source": [
    "## Lists Methods\n",
    "Lists methods make changes in the original list because lists are mutuable"
   ]
  },
  {
   "cell_type": "markdown",
   "id": "4546e840",
   "metadata": {},
   "source": [
    "Can acess each element in lists through indexing or slicing"
   ]
  },
  {
   "cell_type": "markdown",
   "id": "d2062bb8",
   "metadata": {},
   "source": [
    "###### append()\tAdds an element at the end of the list"
   ]
  },
  {
   "cell_type": "code",
   "execution_count": 72,
   "id": "8308439e",
   "metadata": {},
   "outputs": [
    {
     "name": "stdout",
     "output_type": "stream",
     "text": [
      "[1, 2, 3, 9]\n"
     ]
    }
   ],
   "source": [
    "l1 = [1,2,3]\n",
    "l1.append(9)\n",
    "print(l1)"
   ]
  },
  {
   "cell_type": "markdown",
   "id": "51728b4d",
   "metadata": {},
   "source": [
    "###### clear()\tRemoves all the elements from the list"
   ]
  },
  {
   "cell_type": "code",
   "execution_count": 73,
   "id": "f2276f94",
   "metadata": {},
   "outputs": [
    {
     "name": "stdout",
     "output_type": "stream",
     "text": [
      "[]\n"
     ]
    }
   ],
   "source": [
    "l1 = [1,2,3]\n",
    "l1.clear()\n",
    "print(l1)"
   ]
  },
  {
   "cell_type": "markdown",
   "id": "16183bad",
   "metadata": {},
   "source": [
    "###### copy()\tReturns a copy of the list"
   ]
  },
  {
   "cell_type": "code",
   "execution_count": 74,
   "id": "f542cc49",
   "metadata": {},
   "outputs": [
    {
     "name": "stdout",
     "output_type": "stream",
     "text": [
      "[1, 2, 3]\n"
     ]
    }
   ],
   "source": [
    "l1 = [1,2,3]\n",
    "l2 = l1.copy() # copy the entire list in l2\n",
    "print(l2)"
   ]
  },
  {
   "cell_type": "markdown",
   "id": "50953609",
   "metadata": {},
   "source": [
    "###### count()\tReturns the number of elements with the specified value"
   ]
  },
  {
   "cell_type": "code",
   "execution_count": 76,
   "id": "7a76d990",
   "metadata": {},
   "outputs": [
    {
     "data": {
      "text/plain": [
       "1"
      ]
     },
     "execution_count": 76,
     "metadata": {},
     "output_type": "execute_result"
    }
   ],
   "source": [
    "l1 = [1,2,3]\n",
    "l1.count(2)"
   ]
  },
  {
   "cell_type": "code",
   "execution_count": 79,
   "id": "5262ab75",
   "metadata": {},
   "outputs": [
    {
     "data": {
      "text/plain": [
       "3"
      ]
     },
     "execution_count": 79,
     "metadata": {},
     "output_type": "execute_result"
    }
   ],
   "source": [
    "l1 = [1,2,3,3,2,1,4,5,2]\n",
    "l1.count(2)"
   ]
  },
  {
   "cell_type": "code",
   "execution_count": 81,
   "id": "3cc8db80",
   "metadata": {},
   "outputs": [
    {
     "data": {
      "text/plain": [
       "0"
      ]
     },
     "execution_count": 81,
     "metadata": {},
     "output_type": "execute_result"
    }
   ],
   "source": [
    "l1 = [1,2,3,3,2,1,4,5,2]\n",
    "l1.count(9) # if number not exist in the list then it returns 0"
   ]
  },
  {
   "cell_type": "markdown",
   "id": "7a2540cd",
   "metadata": {},
   "source": [
    "###### extend()\tAdd the elements of a list (or any iterable), to the end of the current list"
   ]
  },
  {
   "cell_type": "code",
   "execution_count": 80,
   "id": "5aff787f",
   "metadata": {},
   "outputs": [
    {
     "name": "stdout",
     "output_type": "stream",
     "text": [
      "[1, 2, 3, 7, 8, 9]\n"
     ]
    }
   ],
   "source": [
    "l1 = [1,2,3]\n",
    "l1.extend([7,8,9]) #extend adds the iterable\n",
    "print(l1)"
   ]
  },
  {
   "cell_type": "code",
   "execution_count": 84,
   "id": "0747259b",
   "metadata": {},
   "outputs": [
    {
     "name": "stdout",
     "output_type": "stream",
     "text": [
      "[1, 2, 3, 'p', 'y', 't', 'h', 'o', 'n']\n"
     ]
    }
   ],
   "source": [
    "l1 = [1,2,3]\n",
    "l1.extend('python') #extend adds the iterable\n",
    "print(l1)"
   ]
  },
  {
   "cell_type": "code",
   "execution_count": 83,
   "id": "a426067c",
   "metadata": {},
   "outputs": [
    {
     "name": "stdout",
     "output_type": "stream",
     "text": [
      "[1, 2, 3, [7, 8, 9]]\n"
     ]
    }
   ],
   "source": [
    "l1 = [1,2,3]\n",
    "l1.append([7,8,9]) #append will add only one item\n",
    "print(l1)"
   ]
  },
  {
   "cell_type": "code",
   "execution_count": 86,
   "id": "9def3801",
   "metadata": {},
   "outputs": [
    {
     "name": "stdout",
     "output_type": "stream",
     "text": [
      "[1, 2, 3, 'python']\n"
     ]
    }
   ],
   "source": [
    "l1 = [1,2,3]\n",
    "l1.append('python')\n",
    "print(l1)"
   ]
  },
  {
   "cell_type": "markdown",
   "id": "a93e3af7",
   "metadata": {},
   "source": [
    "###### index()\tReturns the index of the first element with the specified value"
   ]
  },
  {
   "cell_type": "code",
   "execution_count": 88,
   "id": "b5a9c466",
   "metadata": {},
   "outputs": [
    {
     "data": {
      "text/plain": [
       "2"
      ]
     },
     "execution_count": 88,
     "metadata": {},
     "output_type": "execute_result"
    }
   ],
   "source": [
    "l1 = [1,2,3]\n",
    "l1.index(3)"
   ]
  },
  {
   "cell_type": "code",
   "execution_count": 89,
   "id": "7221da0f",
   "metadata": {},
   "outputs": [
    {
     "ename": "ValueError",
     "evalue": "9 is not in list",
     "output_type": "error",
     "traceback": [
      "\u001b[1;31m---------------------------------------------------------------------------\u001b[0m",
      "\u001b[1;31mValueError\u001b[0m                                Traceback (most recent call last)",
      "\u001b[1;32m~\\AppData\\Local\\Temp\\ipykernel_13240\\2079114118.py\u001b[0m in \u001b[0;36m<module>\u001b[1;34m\u001b[0m\n\u001b[0;32m      1\u001b[0m \u001b[0ml1\u001b[0m \u001b[1;33m=\u001b[0m \u001b[1;33m[\u001b[0m\u001b[1;36m1\u001b[0m\u001b[1;33m,\u001b[0m\u001b[1;36m2\u001b[0m\u001b[1;33m,\u001b[0m\u001b[1;36m3\u001b[0m\u001b[1;33m]\u001b[0m\u001b[1;33m\u001b[0m\u001b[1;33m\u001b[0m\u001b[0m\n\u001b[1;32m----> 2\u001b[1;33m \u001b[0ml1\u001b[0m\u001b[1;33m.\u001b[0m\u001b[0mindex\u001b[0m\u001b[1;33m(\u001b[0m\u001b[1;36m9\u001b[0m\u001b[1;33m)\u001b[0m\u001b[1;33m\u001b[0m\u001b[1;33m\u001b[0m\u001b[0m\n\u001b[0m",
      "\u001b[1;31mValueError\u001b[0m: 9 is not in list"
     ]
    }
   ],
   "source": [
    "l1 = [1,2,3]\n",
    "l1.index(9) #Gives error if not found"
   ]
  },
  {
   "cell_type": "markdown",
   "id": "7247f392",
   "metadata": {},
   "source": [
    "###### insert()\tAdds an element at the specified position"
   ]
  },
  {
   "cell_type": "code",
   "execution_count": 91,
   "id": "19cf4374",
   "metadata": {},
   "outputs": [
    {
     "name": "stdout",
     "output_type": "stream",
     "text": [
      "['python', 1, 2, 3]\n"
     ]
    }
   ],
   "source": [
    "l1 = [1,2,3]\n",
    "# First argument will be position and second argument will be element that has to inserted\n",
    "l1.insert(0,'python')\n",
    "print(l1)"
   ]
  },
  {
   "cell_type": "code",
   "execution_count": 92,
   "id": "0722c546",
   "metadata": {},
   "outputs": [
    {
     "name": "stdout",
     "output_type": "stream",
     "text": [
      "[1, 2, 3, 'python']\n"
     ]
    }
   ],
   "source": [
    "l1 = [1,2,3]\n",
    "# First argument will be position and second argument will be element that has to inserted\n",
    "l1.insert(7,'python') #if given the position greater than the length of the list it will insert the element at the end\n",
    "print(l1)"
   ]
  },
  {
   "cell_type": "markdown",
   "id": "a01b519f",
   "metadata": {},
   "source": [
    "###### pop()\tRemoves the element at the specified position"
   ]
  },
  {
   "cell_type": "code",
   "execution_count": 93,
   "id": "32a527e5",
   "metadata": {},
   "outputs": [
    {
     "name": "stdout",
     "output_type": "stream",
     "text": [
      "[1, 2]\n"
     ]
    }
   ],
   "source": [
    "l1 = [1,2,3]\n",
    "l1.pop()\n",
    "print(l1)"
   ]
  },
  {
   "cell_type": "code",
   "execution_count": 94,
   "id": "facbf414",
   "metadata": {},
   "outputs": [
    {
     "name": "stdout",
     "output_type": "stream",
     "text": [
      "[1, 3]\n"
     ]
    }
   ],
   "source": [
    "l1 = [1,2,3]\n",
    "l1.pop(1) #index number as an argument\n",
    "print(l1)"
   ]
  },
  {
   "cell_type": "markdown",
   "id": "d1414b6d",
   "metadata": {},
   "source": [
    "###### remove()\tRemoves the first item with the specified value"
   ]
  },
  {
   "cell_type": "code",
   "execution_count": 96,
   "id": "2b5d6fac",
   "metadata": {},
   "outputs": [
    {
     "name": "stdout",
     "output_type": "stream",
     "text": [
      "[2, 11, 23, 4, 3]\n"
     ]
    }
   ],
   "source": [
    "l1 = [1,2,11,23,4,3]\n",
    "l1.remove(1) #specified element as an argument\n",
    "print(l1)"
   ]
  },
  {
   "cell_type": "code",
   "execution_count": 97,
   "id": "39d9bcd2",
   "metadata": {},
   "outputs": [
    {
     "name": "stdout",
     "output_type": "stream",
     "text": [
      "[2, 1, 23, 1, 4, 3]\n"
     ]
    }
   ],
   "source": [
    "l1 = [1,2,1,23,1,4,3]\n",
    "l1.remove(1) #specified element as an argument\n",
    "print(l1)  #Will only remove the first occurence of the given item"
   ]
  },
  {
   "cell_type": "code",
   "execution_count": 98,
   "id": "019eecff",
   "metadata": {},
   "outputs": [
    {
     "ename": "ValueError",
     "evalue": "list.remove(x): x not in list",
     "output_type": "error",
     "traceback": [
      "\u001b[1;31m---------------------------------------------------------------------------\u001b[0m",
      "\u001b[1;31mValueError\u001b[0m                                Traceback (most recent call last)",
      "\u001b[1;32m~\\AppData\\Local\\Temp\\ipykernel_13240\\4265535957.py\u001b[0m in \u001b[0;36m<module>\u001b[1;34m\u001b[0m\n\u001b[0;32m      1\u001b[0m \u001b[0ml1\u001b[0m \u001b[1;33m=\u001b[0m \u001b[1;33m[\u001b[0m\u001b[1;36m1\u001b[0m\u001b[1;33m,\u001b[0m\u001b[1;36m2\u001b[0m\u001b[1;33m,\u001b[0m\u001b[1;36m11\u001b[0m\u001b[1;33m,\u001b[0m\u001b[1;36m23\u001b[0m\u001b[1;33m,\u001b[0m\u001b[1;36m4\u001b[0m\u001b[1;33m,\u001b[0m\u001b[1;36m3\u001b[0m\u001b[1;33m]\u001b[0m\u001b[1;33m\u001b[0m\u001b[1;33m\u001b[0m\u001b[0m\n\u001b[1;32m----> 2\u001b[1;33m \u001b[0ml1\u001b[0m\u001b[1;33m.\u001b[0m\u001b[0mremove\u001b[0m\u001b[1;33m(\u001b[0m\u001b[1;36m9\u001b[0m\u001b[1;33m)\u001b[0m \u001b[1;31m#specified element as an argument\u001b[0m\u001b[1;33m\u001b[0m\u001b[1;33m\u001b[0m\u001b[0m\n\u001b[0m\u001b[0;32m      3\u001b[0m \u001b[0mprint\u001b[0m\u001b[1;33m(\u001b[0m\u001b[0ml1\u001b[0m\u001b[1;33m)\u001b[0m\u001b[1;33m\u001b[0m\u001b[1;33m\u001b[0m\u001b[0m\n",
      "\u001b[1;31mValueError\u001b[0m: list.remove(x): x not in list"
     ]
    }
   ],
   "source": [
    "l1 = [1,2,11,23,4,3]\n",
    "l1.remove(9) #specified element as an argument\n",
    "print(l1) # will throw an error if could not found"
   ]
  },
  {
   "cell_type": "markdown",
   "id": "faf537ec",
   "metadata": {},
   "source": [
    "###### reverse()\tReverses the order of the list"
   ]
  },
  {
   "cell_type": "code",
   "execution_count": 99,
   "id": "9a0f08f6",
   "metadata": {},
   "outputs": [
    {
     "name": "stdout",
     "output_type": "stream",
     "text": [
      "[3, 2, 1]\n"
     ]
    }
   ],
   "source": [
    "l1 = [1,2,3]\n",
    "l1.reverse()\n",
    "print(l1)"
   ]
  },
  {
   "cell_type": "markdown",
   "id": "0e354e5e",
   "metadata": {},
   "source": [
    "###### sort()\tSorts the list"
   ]
  },
  {
   "cell_type": "code",
   "execution_count": 101,
   "id": "11ab209f",
   "metadata": {},
   "outputs": [
    {
     "name": "stdout",
     "output_type": "stream",
     "text": [
      "[212, 300, 1200]\n"
     ]
    }
   ],
   "source": [
    "l1 = [1200,212,300]\n",
    "l1.sort()\n",
    "print(l1)"
   ]
  },
  {
   "cell_type": "markdown",
   "id": "ce89cd93",
   "metadata": {},
   "source": [
    "# Tuples -> Immutable"
   ]
  },
  {
   "cell_type": "markdown",
   "id": "94085721",
   "metadata": {},
   "source": [
    "Can acess each element in tuple through indexing or slicing"
   ]
  },
  {
   "cell_type": "markdown",
   "id": "38bb63c7",
   "metadata": {},
   "source": [
    "## Operations in Tuples"
   ]
  },
  {
   "cell_type": "markdown",
   "id": "b88bcc1b",
   "metadata": {},
   "source": [
    "###### + operator --> Concatenate the tuples"
   ]
  },
  {
   "cell_type": "code",
   "execution_count": 118,
   "id": "e3198bd6",
   "metadata": {},
   "outputs": [
    {
     "data": {
      "text/plain": [
       "(1, 2, 3, 3, 4, 5)"
      ]
     },
     "execution_count": 118,
     "metadata": {},
     "output_type": "execute_result"
    }
   ],
   "source": [
    "t1 = (1,2,3)\n",
    "t2 = (3,4,5)\n",
    "t1 + t2"
   ]
  },
  {
   "cell_type": "markdown",
   "id": "a36a6a0e",
   "metadata": {},
   "source": [
    "###### * operator in list "
   ]
  },
  {
   "cell_type": "code",
   "execution_count": 121,
   "id": "42fe4550",
   "metadata": {},
   "outputs": [
    {
     "data": {
      "text/plain": [
       "(3, 4, 5, 3, 4, 5, 3, 4, 5)"
      ]
     },
     "execution_count": 121,
     "metadata": {},
     "output_type": "execute_result"
    }
   ],
   "source": [
    "t2 = (3,4,5)\n",
    "t2*3"
   ]
  },
  {
   "cell_type": "markdown",
   "id": "eaa2c2f9",
   "metadata": {},
   "source": [
    "###### Membership operator"
   ]
  },
  {
   "cell_type": "code",
   "execution_count": 169,
   "id": "3796f419",
   "metadata": {},
   "outputs": [
    {
     "data": {
      "text/plain": [
       "False"
      ]
     },
     "execution_count": 169,
     "metadata": {},
     "output_type": "execute_result"
    }
   ],
   "source": [
    "t1 = (91,24,78)\n",
    "45 in t1"
   ]
  },
  {
   "cell_type": "code",
   "execution_count": 170,
   "id": "dd1296e4",
   "metadata": {},
   "outputs": [
    {
     "data": {
      "text/plain": [
       "True"
      ]
     },
     "execution_count": 170,
     "metadata": {},
     "output_type": "execute_result"
    }
   ],
   "source": [
    "45 not in t1"
   ]
  },
  {
   "cell_type": "markdown",
   "id": "667d638f",
   "metadata": {},
   "source": [
    "## Tuple Methods"
   ]
  },
  {
   "cell_type": "markdown",
   "id": "0862bbd3",
   "metadata": {},
   "source": [
    "###### count()\tReturns the number of times a specified value occurs in a tuple"
   ]
  },
  {
   "cell_type": "code",
   "execution_count": 107,
   "id": "872ece14",
   "metadata": {},
   "outputs": [
    {
     "data": {
      "text/plain": [
       "3"
      ]
     },
     "execution_count": 107,
     "metadata": {},
     "output_type": "execute_result"
    }
   ],
   "source": [
    "t1 = (1,2,3,3,4,5,6,1,4,7,1)\n",
    "t1.count(1)"
   ]
  },
  {
   "cell_type": "code",
   "execution_count": 108,
   "id": "e7318afe",
   "metadata": {},
   "outputs": [
    {
     "data": {
      "text/plain": [
       "2"
      ]
     },
     "execution_count": 108,
     "metadata": {},
     "output_type": "execute_result"
    }
   ],
   "source": [
    "t1 = (1,2,3,3,4,5,6,1,4,7,1)\n",
    "t1.count(3)"
   ]
  },
  {
   "cell_type": "code",
   "execution_count": 109,
   "id": "e10ad062",
   "metadata": {},
   "outputs": [
    {
     "data": {
      "text/plain": [
       "0"
      ]
     },
     "execution_count": 109,
     "metadata": {},
     "output_type": "execute_result"
    }
   ],
   "source": [
    "t1 = (1,2,3,3,4,5,6,1,4,7,1)\n",
    "t1.count(8)"
   ]
  },
  {
   "cell_type": "markdown",
   "id": "41c4eaa0",
   "metadata": {},
   "source": [
    "###### index()\tSearches the tuple for a specified value and returns the position of where it was found"
   ]
  },
  {
   "cell_type": "code",
   "execution_count": 110,
   "id": "d3b484a1",
   "metadata": {},
   "outputs": [
    {
     "ename": "ValueError",
     "evalue": "tuple.index(x): x not in tuple",
     "output_type": "error",
     "traceback": [
      "\u001b[1;31m---------------------------------------------------------------------------\u001b[0m",
      "\u001b[1;31mValueError\u001b[0m                                Traceback (most recent call last)",
      "\u001b[1;32m~\\AppData\\Local\\Temp\\ipykernel_13240\\2880431033.py\u001b[0m in \u001b[0;36m<module>\u001b[1;34m\u001b[0m\n\u001b[0;32m      1\u001b[0m \u001b[0mt1\u001b[0m \u001b[1;33m=\u001b[0m \u001b[1;33m(\u001b[0m\u001b[1;36m1\u001b[0m\u001b[1;33m,\u001b[0m\u001b[1;36m2\u001b[0m\u001b[1;33m,\u001b[0m\u001b[1;36m3\u001b[0m\u001b[1;33m,\u001b[0m\u001b[1;36m3\u001b[0m\u001b[1;33m,\u001b[0m\u001b[1;36m4\u001b[0m\u001b[1;33m,\u001b[0m\u001b[1;36m5\u001b[0m\u001b[1;33m,\u001b[0m\u001b[1;36m6\u001b[0m\u001b[1;33m,\u001b[0m\u001b[1;36m1\u001b[0m\u001b[1;33m,\u001b[0m\u001b[1;36m4\u001b[0m\u001b[1;33m,\u001b[0m\u001b[1;36m7\u001b[0m\u001b[1;33m,\u001b[0m\u001b[1;36m1\u001b[0m\u001b[1;33m)\u001b[0m\u001b[1;33m\u001b[0m\u001b[1;33m\u001b[0m\u001b[0m\n\u001b[1;32m----> 2\u001b[1;33m \u001b[0mt1\u001b[0m\u001b[1;33m.\u001b[0m\u001b[0mindex\u001b[0m\u001b[1;33m(\u001b[0m\u001b[1;36m8\u001b[0m\u001b[1;33m)\u001b[0m\u001b[1;33m\u001b[0m\u001b[1;33m\u001b[0m\u001b[0m\n\u001b[0m",
      "\u001b[1;31mValueError\u001b[0m: tuple.index(x): x not in tuple"
     ]
    }
   ],
   "source": [
    "t1 = (1,2,3,3,4,5,6,1,4,7,1)\n",
    "t1.index(8) #gives error if not found"
   ]
  },
  {
   "cell_type": "code",
   "execution_count": 111,
   "id": "841f747f",
   "metadata": {},
   "outputs": [
    {
     "data": {
      "text/plain": [
       "0"
      ]
     },
     "execution_count": 111,
     "metadata": {},
     "output_type": "execute_result"
    }
   ],
   "source": [
    "t1 = (1,2,3,3,4,5,6,1,4,7,1)\n",
    "t1.index(1) "
   ]
  },
  {
   "cell_type": "code",
   "execution_count": 113,
   "id": "c048f6d0",
   "metadata": {},
   "outputs": [
    {
     "data": {
      "text/plain": [
       "9"
      ]
     },
     "execution_count": 113,
     "metadata": {},
     "output_type": "execute_result"
    }
   ],
   "source": [
    "t1 = (1,2,3,3,4,5,6,1,4,7,1)\n",
    "t1.index(7)"
   ]
  },
  {
   "cell_type": "markdown",
   "id": "4cdad346",
   "metadata": {},
   "source": [
    "# Dictionary -> mutuable"
   ]
  },
  {
   "cell_type": "markdown",
   "id": "e8c1f619",
   "metadata": {},
   "source": [
    "## Operations in Dictionary"
   ]
  },
  {
   "cell_type": "markdown",
   "id": "ce4bed63",
   "metadata": {},
   "source": [
    "+ and * operators are not supported in dictionary"
   ]
  },
  {
   "cell_type": "markdown",
   "id": "681ace37",
   "metadata": {},
   "source": [
    "###### Membership Operator"
   ]
  },
  {
   "cell_type": "code",
   "execution_count": 173,
   "id": "fbf229db",
   "metadata": {},
   "outputs": [
    {
     "data": {
      "text/plain": [
       "True"
      ]
     },
     "execution_count": 173,
     "metadata": {},
     "output_type": "execute_result"
    }
   ],
   "source": [
    "d1 = {1:'a',2:'b',3:'c'}\n",
    "1 in d1"
   ]
  },
  {
   "cell_type": "code",
   "execution_count": 175,
   "id": "5546c55a",
   "metadata": {},
   "outputs": [
    {
     "data": {
      "text/plain": [
       "False"
      ]
     },
     "execution_count": 175,
     "metadata": {},
     "output_type": "execute_result"
    }
   ],
   "source": [
    "1 not in d1"
   ]
  },
  {
   "cell_type": "markdown",
   "id": "d242345c",
   "metadata": {},
   "source": [
    "## Dictionary Methods"
   ]
  },
  {
   "cell_type": "markdown",
   "id": "f9389cc9",
   "metadata": {},
   "source": [
    "Cannot acess each key-value pair in dictionary through indexing or slicing"
   ]
  },
  {
   "cell_type": "markdown",
   "id": "ed9588ae",
   "metadata": {},
   "source": [
    "###### clear()\tRemoves all the elements from the dictionary"
   ]
  },
  {
   "cell_type": "code",
   "execution_count": 125,
   "id": "b5f39e75",
   "metadata": {},
   "outputs": [
    {
     "data": {
      "text/plain": [
       "{1: 'a', 2: 'b', 3: 'c'}"
      ]
     },
     "execution_count": 125,
     "metadata": {},
     "output_type": "execute_result"
    }
   ],
   "source": [
    "d1 = {1:'a',2:'b',3:'c'}\n",
    "d1"
   ]
  },
  {
   "cell_type": "code",
   "execution_count": 126,
   "id": "73478266",
   "metadata": {},
   "outputs": [
    {
     "data": {
      "text/plain": [
       "{}"
      ]
     },
     "execution_count": 126,
     "metadata": {},
     "output_type": "execute_result"
    }
   ],
   "source": [
    "d1.clear()\n",
    "d1"
   ]
  },
  {
   "cell_type": "markdown",
   "id": "c5ccfc54",
   "metadata": {},
   "source": [
    "###### copy()\tReturns a copy of the dictionary"
   ]
  },
  {
   "cell_type": "code",
   "execution_count": 148,
   "id": "758a2d3b",
   "metadata": {},
   "outputs": [
    {
     "data": {
      "text/plain": [
       "{1: 'a', 2: 'b', 3: 'c'}"
      ]
     },
     "execution_count": 148,
     "metadata": {},
     "output_type": "execute_result"
    }
   ],
   "source": [
    "d1 = {1:'a',2:'b',3:'c'}\n",
    "d1"
   ]
  },
  {
   "cell_type": "code",
   "execution_count": 129,
   "id": "a35d27be",
   "metadata": {},
   "outputs": [
    {
     "data": {
      "text/plain": [
       "{1: 'a', 2: 'b', 3: 'c'}"
      ]
     },
     "execution_count": 129,
     "metadata": {},
     "output_type": "execute_result"
    }
   ],
   "source": [
    "d2 = d1.copy()\n",
    "d2"
   ]
  },
  {
   "cell_type": "markdown",
   "id": "5688603d",
   "metadata": {},
   "source": [
    "###### fromkeys()\tReturns a dictionary with the specified keys and value"
   ]
  },
  {
   "cell_type": "code",
   "execution_count": 136,
   "id": "9d112a61",
   "metadata": {},
   "outputs": [
    {
     "data": {
      "text/plain": [
       "{11: ['Hello', 'Python'], 12: ['Hello', 'Python']}"
      ]
     },
     "execution_count": 136,
     "metadata": {},
     "output_type": "execute_result"
    }
   ],
   "source": [
    "#First argument is key and second argument is value\n",
    "dict.fromkeys([11,12],['Hello','Python'])\n",
    "#keys are 11 and 12 and value to each key is list of 2 items"
   ]
  },
  {
   "cell_type": "code",
   "execution_count": 138,
   "id": "9e572d05",
   "metadata": {},
   "outputs": [
    {
     "data": {
      "text/plain": [
       "{1: None, 2: None}"
      ]
     },
     "execution_count": 138,
     "metadata": {},
     "output_type": "execute_result"
    }
   ],
   "source": [
    "dict.fromkeys([1,2]) #values to the key 1 and 2 are None"
   ]
  },
  {
   "cell_type": "markdown",
   "id": "09058518",
   "metadata": {},
   "source": [
    "###### get()\tReturns the value of the specified key"
   ]
  },
  {
   "cell_type": "code",
   "execution_count": 139,
   "id": "1632cd79",
   "metadata": {},
   "outputs": [
    {
     "data": {
      "text/plain": [
       "{1: 'a', 2: 'b', 3: 'c'}"
      ]
     },
     "execution_count": 139,
     "metadata": {},
     "output_type": "execute_result"
    }
   ],
   "source": [
    "d1"
   ]
  },
  {
   "cell_type": "code",
   "execution_count": 140,
   "id": "be08b080",
   "metadata": {},
   "outputs": [
    {
     "data": {
      "text/plain": [
       "'b'"
      ]
     },
     "execution_count": 140,
     "metadata": {},
     "output_type": "execute_result"
    }
   ],
   "source": [
    "d1.get(2)"
   ]
  },
  {
   "cell_type": "markdown",
   "id": "bb2eb32f",
   "metadata": {},
   "source": [
    "###### items()\tReturns a list containing a tuple for each key value pair"
   ]
  },
  {
   "cell_type": "code",
   "execution_count": 141,
   "id": "401630db",
   "metadata": {},
   "outputs": [
    {
     "data": {
      "text/plain": [
       "dict_items([(1, 'a'), (2, 'b'), (3, 'c')])"
      ]
     },
     "execution_count": 141,
     "metadata": {},
     "output_type": "execute_result"
    }
   ],
   "source": [
    "d1.items()"
   ]
  },
  {
   "cell_type": "markdown",
   "id": "0f206514",
   "metadata": {},
   "source": [
    "###### keys()\tReturns a list containing the dictionary's keys"
   ]
  },
  {
   "cell_type": "code",
   "execution_count": 142,
   "id": "d655a791",
   "metadata": {},
   "outputs": [
    {
     "data": {
      "text/plain": [
       "dict_keys([1, 2, 3])"
      ]
     },
     "execution_count": 142,
     "metadata": {},
     "output_type": "execute_result"
    }
   ],
   "source": [
    "d1.keys()"
   ]
  },
  {
   "cell_type": "markdown",
   "id": "ac8b8a65",
   "metadata": {},
   "source": [
    "###### values()\tReturns a list of all the values in the dictionary"
   ]
  },
  {
   "cell_type": "code",
   "execution_count": 149,
   "id": "3d717384",
   "metadata": {},
   "outputs": [
    {
     "data": {
      "text/plain": [
       "dict_values(['a', 'b', 'c'])"
      ]
     },
     "execution_count": 149,
     "metadata": {},
     "output_type": "execute_result"
    }
   ],
   "source": [
    "d1.values()"
   ]
  },
  {
   "cell_type": "markdown",
   "id": "a986b56d",
   "metadata": {},
   "source": [
    "###### pop()\tRemoves the element with the specified key"
   ]
  },
  {
   "cell_type": "code",
   "execution_count": 150,
   "id": "ea6d1ad7",
   "metadata": {},
   "outputs": [
    {
     "data": {
      "text/plain": [
       "'b'"
      ]
     },
     "execution_count": 150,
     "metadata": {},
     "output_type": "execute_result"
    }
   ],
   "source": [
    "d1.pop(2) #key as an argument to tell which key has to be deleted"
   ]
  },
  {
   "cell_type": "code",
   "execution_count": 151,
   "id": "1a24b74e",
   "metadata": {},
   "outputs": [
    {
     "data": {
      "text/plain": [
       "{1: 'a', 3: 'c'}"
      ]
     },
     "execution_count": 151,
     "metadata": {},
     "output_type": "execute_result"
    }
   ],
   "source": [
    "d1"
   ]
  },
  {
   "cell_type": "markdown",
   "id": "e5a40b6b",
   "metadata": {},
   "source": [
    "###### popitem()\tRemoves the last inserted key-value pair"
   ]
  },
  {
   "cell_type": "code",
   "execution_count": 152,
   "id": "0f2796ba",
   "metadata": {},
   "outputs": [
    {
     "data": {
      "text/plain": [
       "{1: 'a', 2: 'b', 3: 'c'}"
      ]
     },
     "execution_count": 152,
     "metadata": {},
     "output_type": "execute_result"
    }
   ],
   "source": [
    "d2"
   ]
  },
  {
   "cell_type": "code",
   "execution_count": 153,
   "id": "b3b2b991",
   "metadata": {},
   "outputs": [
    {
     "data": {
      "text/plain": [
       "(3, 'c')"
      ]
     },
     "execution_count": 153,
     "metadata": {},
     "output_type": "execute_result"
    }
   ],
   "source": [
    "d2.popitem()"
   ]
  },
  {
   "cell_type": "code",
   "execution_count": 154,
   "id": "d1eebb74",
   "metadata": {},
   "outputs": [
    {
     "data": {
      "text/plain": [
       "{1: 'a', 2: 'b'}"
      ]
     },
     "execution_count": 154,
     "metadata": {},
     "output_type": "execute_result"
    }
   ],
   "source": [
    "d2"
   ]
  },
  {
   "cell_type": "markdown",
   "id": "f781c3e4",
   "metadata": {},
   "source": [
    "###### setdefault()\tReturns the value of the specified key. If the key does not exist: insert the key, with the specified value"
   ]
  },
  {
   "cell_type": "code",
   "execution_count": 155,
   "id": "d89118e1",
   "metadata": {},
   "outputs": [
    {
     "data": {
      "text/plain": [
       "{1: 'a', 3: 'c'}"
      ]
     },
     "execution_count": 155,
     "metadata": {},
     "output_type": "execute_result"
    }
   ],
   "source": [
    "d1"
   ]
  },
  {
   "cell_type": "code",
   "execution_count": 157,
   "id": "81cd0336",
   "metadata": {},
   "outputs": [
    {
     "data": {
      "text/plain": [
       "'c'"
      ]
     },
     "execution_count": 157,
     "metadata": {},
     "output_type": "execute_result"
    }
   ],
   "source": [
    "d1.setdefault(3)"
   ]
  },
  {
   "cell_type": "code",
   "execution_count": 162,
   "id": "05a2f751",
   "metadata": {},
   "outputs": [],
   "source": [
    "d1.setdefault(4)"
   ]
  },
  {
   "cell_type": "code",
   "execution_count": 163,
   "id": "a0abf0fd",
   "metadata": {},
   "outputs": [
    {
     "data": {
      "text/plain": [
       "{1: 'a', 3: 'c', 4: None}"
      ]
     },
     "execution_count": 163,
     "metadata": {},
     "output_type": "execute_result"
    }
   ],
   "source": [
    "d1"
   ]
  },
  {
   "cell_type": "markdown",
   "id": "06b547c6",
   "metadata": {},
   "source": [
    "###### update()\tUpdates the dictionary with the specified key-value pairs"
   ]
  },
  {
   "cell_type": "code",
   "execution_count": 164,
   "id": "696739ed",
   "metadata": {},
   "outputs": [
    {
     "data": {
      "text/plain": [
       "{1: 'a', 3: 'c', 4: None}"
      ]
     },
     "execution_count": 164,
     "metadata": {},
     "output_type": "execute_result"
    }
   ],
   "source": [
    "d1"
   ]
  },
  {
   "cell_type": "code",
   "execution_count": 166,
   "id": "cb423fd3",
   "metadata": {},
   "outputs": [
    {
     "data": {
      "text/plain": [
       "{1: 'a', 3: 'c', 4: None, 5: 'r'}"
      ]
     },
     "execution_count": 166,
     "metadata": {},
     "output_type": "execute_result"
    }
   ],
   "source": [
    "d1.update({5:'r'})\n",
    "d1"
   ]
  },
  {
   "cell_type": "markdown",
   "id": "d22d3b1d",
   "metadata": {},
   "source": [
    "# Sets -> mutuable"
   ]
  },
  {
   "cell_type": "markdown",
   "id": "6f6ff85b",
   "metadata": {},
   "source": [
    "Indexing and slicing is not possible in sets"
   ]
  },
  {
   "cell_type": "markdown",
   "id": "f9d5f0a9",
   "metadata": {},
   "source": [
    "## Operations in Sets"
   ]
  },
  {
   "cell_type": "markdown",
   "id": "ea4af8f4",
   "metadata": {},
   "source": [
    "+ and * operators are not supported in sets"
   ]
  },
  {
   "cell_type": "markdown",
   "id": "0d7761db",
   "metadata": {},
   "source": [
    "###### - operator is used as difference in sets"
   ]
  },
  {
   "cell_type": "code",
   "execution_count": 181,
   "id": "9e2438d2",
   "metadata": {},
   "outputs": [
    {
     "data": {
      "text/plain": [
       "{7, 8}"
      ]
     },
     "execution_count": 181,
     "metadata": {},
     "output_type": "execute_result"
    }
   ],
   "source": [
    "s1 = {1,2,9,3}\n",
    "s2 = {7,8,9}\n",
    "s2-s1"
   ]
  },
  {
   "cell_type": "code",
   "execution_count": 182,
   "id": "a89e717a",
   "metadata": {},
   "outputs": [
    {
     "data": {
      "text/plain": [
       "{1, 2, 3}"
      ]
     },
     "execution_count": 182,
     "metadata": {},
     "output_type": "execute_result"
    }
   ],
   "source": [
    "s1 -s2"
   ]
  },
  {
   "cell_type": "markdown",
   "id": "523d5f32",
   "metadata": {},
   "source": [
    "###### Membership Operator"
   ]
  },
  {
   "cell_type": "code",
   "execution_count": 183,
   "id": "239e7b33",
   "metadata": {},
   "outputs": [
    {
     "data": {
      "text/plain": [
       "True"
      ]
     },
     "execution_count": 183,
     "metadata": {},
     "output_type": "execute_result"
    }
   ],
   "source": [
    "1 in s1"
   ]
  },
  {
   "cell_type": "code",
   "execution_count": 185,
   "id": "b161089c",
   "metadata": {},
   "outputs": [
    {
     "data": {
      "text/plain": [
       "True"
      ]
     },
     "execution_count": 185,
     "metadata": {},
     "output_type": "execute_result"
    }
   ],
   "source": [
    "8 not in s1"
   ]
  },
  {
   "cell_type": "markdown",
   "id": "b073f8bb",
   "metadata": {},
   "source": [
    "## Sets Methods"
   ]
  },
  {
   "cell_type": "markdown",
   "id": "e2c887e9",
   "metadata": {},
   "source": [
    "###### add()\tAdds an element to the set"
   ]
  },
  {
   "cell_type": "code",
   "execution_count": 187,
   "id": "f3e5b6df",
   "metadata": {},
   "outputs": [
    {
     "data": {
      "text/plain": [
       "{1, 2, 3}"
      ]
     },
     "execution_count": 187,
     "metadata": {},
     "output_type": "execute_result"
    }
   ],
   "source": [
    "s1 = {1,2,3}\n",
    "s1"
   ]
  },
  {
   "cell_type": "code",
   "execution_count": 188,
   "id": "7f3c0621",
   "metadata": {},
   "outputs": [
    {
     "data": {
      "text/plain": [
       "{1, 2, 3, 5}"
      ]
     },
     "execution_count": 188,
     "metadata": {},
     "output_type": "execute_result"
    }
   ],
   "source": [
    "s1.add(5)\n",
    "s1"
   ]
  },
  {
   "cell_type": "markdown",
   "id": "ca886131",
   "metadata": {},
   "source": [
    "###### clear()\tRemoves all the elements from the set"
   ]
  },
  {
   "cell_type": "code",
   "execution_count": 189,
   "id": "9a64844e",
   "metadata": {},
   "outputs": [
    {
     "data": {
      "text/plain": [
       "{1, 2, 3, 5}"
      ]
     },
     "execution_count": 189,
     "metadata": {},
     "output_type": "execute_result"
    }
   ],
   "source": [
    "s1"
   ]
  },
  {
   "cell_type": "code",
   "execution_count": 190,
   "id": "1e9890fa",
   "metadata": {},
   "outputs": [
    {
     "data": {
      "text/plain": [
       "set()"
      ]
     },
     "execution_count": 190,
     "metadata": {},
     "output_type": "execute_result"
    }
   ],
   "source": [
    "s1.clear()\n",
    "s1 # s1 is all cleared, it's an empty set now"
   ]
  },
  {
   "cell_type": "markdown",
   "id": "2ffea611",
   "metadata": {},
   "source": [
    "###### copy()\tReturns a copy of the set"
   ]
  },
  {
   "cell_type": "code",
   "execution_count": 193,
   "id": "6b4b3dbd",
   "metadata": {},
   "outputs": [
    {
     "data": {
      "text/plain": [
       "{6, 7, 9}"
      ]
     },
     "execution_count": 193,
     "metadata": {},
     "output_type": "execute_result"
    }
   ],
   "source": [
    "s1={9,6,7}\n",
    "s1"
   ]
  },
  {
   "cell_type": "code",
   "execution_count": 194,
   "id": "79bb9bd1",
   "metadata": {},
   "outputs": [
    {
     "data": {
      "text/plain": [
       "{6, 7, 9}"
      ]
     },
     "execution_count": 194,
     "metadata": {},
     "output_type": "execute_result"
    }
   ],
   "source": [
    "s2 = s1.copy()\n",
    "s2"
   ]
  },
  {
   "cell_type": "markdown",
   "id": "b2db1844",
   "metadata": {},
   "source": [
    "###### difference()\tReturns a set containing the difference between two or more sets"
   ]
  },
  {
   "cell_type": "code",
   "execution_count": 195,
   "id": "34e294ab",
   "metadata": {},
   "outputs": [
    {
     "data": {
      "text/plain": [
       "{3}"
      ]
     },
     "execution_count": 195,
     "metadata": {},
     "output_type": "execute_result"
    }
   ],
   "source": [
    "s1 = {1,2,3}\n",
    "s2 = {6,1,2}\n",
    "s1.difference(s2) #subtract the elements from s1 that are in s2"
   ]
  },
  {
   "cell_type": "code",
   "execution_count": 197,
   "id": "a174d60a",
   "metadata": {},
   "outputs": [
    {
     "data": {
      "text/plain": [
       "{6}"
      ]
     },
     "execution_count": 197,
     "metadata": {},
     "output_type": "execute_result"
    }
   ],
   "source": [
    "s2.difference(s1) #subtract the elements from s2 that are in s1"
   ]
  },
  {
   "cell_type": "markdown",
   "id": "f1030afe",
   "metadata": {},
   "source": [
    "###### difference_update()\tRemoves the items in this set that are also included in another, specified set"
   ]
  },
  {
   "cell_type": "code",
   "execution_count": 200,
   "id": "acfbf88b",
   "metadata": {},
   "outputs": [
    {
     "data": {
      "text/plain": [
       "{3}"
      ]
     },
     "execution_count": 200,
     "metadata": {},
     "output_type": "execute_result"
    }
   ],
   "source": [
    "s1 = {1,2,3}\n",
    "s2 = {6,1,2}\n",
    "s1.difference_update(s2) #subtract the elements from s1 that are in s2 and update the set s1\n",
    "s1"
   ]
  },
  {
   "cell_type": "code",
   "execution_count": 201,
   "id": "8c867d15",
   "metadata": {},
   "outputs": [
    {
     "data": {
      "text/plain": [
       "{6}"
      ]
     },
     "execution_count": 201,
     "metadata": {},
     "output_type": "execute_result"
    }
   ],
   "source": [
    "s1 = {1,2,3}\n",
    "s2 = {6,1,2}\n",
    "s2.difference_update(s1) #subtract the elements from s2 that are in s1 and update the set s2\n",
    "s2"
   ]
  },
  {
   "cell_type": "markdown",
   "id": "fb616058",
   "metadata": {},
   "source": [
    "###### discard()\tRemove the specified item"
   ]
  },
  {
   "cell_type": "code",
   "execution_count": 203,
   "id": "25d0fe0f",
   "metadata": {},
   "outputs": [
    {
     "data": {
      "text/plain": [
       "{1, 3}"
      ]
     },
     "execution_count": 203,
     "metadata": {},
     "output_type": "execute_result"
    }
   ],
   "source": [
    "s1 = {1,2,3}\n",
    "s1.discard(2)\n",
    "s1"
   ]
  },
  {
   "cell_type": "code",
   "execution_count": 204,
   "id": "5979fc81",
   "metadata": {},
   "outputs": [
    {
     "data": {
      "text/plain": [
       "{1, 2, 3}"
      ]
     },
     "execution_count": 204,
     "metadata": {},
     "output_type": "execute_result"
    }
   ],
   "source": [
    "s1 = {1,2,3}\n",
    "s1.discard(4)\n",
    "s1"
   ]
  },
  {
   "cell_type": "markdown",
   "id": "3bf9a02b",
   "metadata": {},
   "source": [
    "###### intersection()\tReturns a set, that is the intersection of two or more sets"
   ]
  },
  {
   "cell_type": "code",
   "execution_count": 205,
   "id": "4068d85d",
   "metadata": {},
   "outputs": [
    {
     "data": {
      "text/plain": [
       "{1, 2}"
      ]
     },
     "execution_count": 205,
     "metadata": {},
     "output_type": "execute_result"
    }
   ],
   "source": [
    "s1 = {1,2,3}\n",
    "s2 = {6,1,2}\n",
    "s2.intersection(s1)"
   ]
  },
  {
   "cell_type": "code",
   "execution_count": 206,
   "id": "8d692e8b",
   "metadata": {},
   "outputs": [
    {
     "data": {
      "text/plain": [
       "{1, 2}"
      ]
     },
     "execution_count": 206,
     "metadata": {},
     "output_type": "execute_result"
    }
   ],
   "source": [
    "s1 = {1,2,3}\n",
    "s2 = {6,1,2}\n",
    "s1.intersection(s2)"
   ]
  },
  {
   "cell_type": "markdown",
   "id": "099f86dc",
   "metadata": {},
   "source": [
    "###### intersection_update()\tRemoves the items in this set that are not present in other, specified set(s)"
   ]
  },
  {
   "cell_type": "code",
   "execution_count": 208,
   "id": "7f6faba6",
   "metadata": {},
   "outputs": [
    {
     "data": {
      "text/plain": [
       "{1, 2}"
      ]
     },
     "execution_count": 208,
     "metadata": {},
     "output_type": "execute_result"
    }
   ],
   "source": [
    "s1 = {1,2,3}\n",
    "s2 = {6,1,2}\n",
    "s2.intersection_update(s1) #Update the result in s2\n",
    "s2"
   ]
  },
  {
   "cell_type": "code",
   "execution_count": 209,
   "id": "9f1f4769",
   "metadata": {},
   "outputs": [
    {
     "data": {
      "text/plain": [
       "{1, 2, 6}"
      ]
     },
     "execution_count": 209,
     "metadata": {},
     "output_type": "execute_result"
    }
   ],
   "source": [
    "s1 = {1,2,3}\n",
    "s2 = {6,1,2}\n",
    "s1.intersection_update(s2) #Update the result in s1\n",
    "s2"
   ]
  },
  {
   "cell_type": "markdown",
   "id": "48ff5390",
   "metadata": {},
   "source": [
    "###### isdisjoint()\tReturns whether two sets have a intersection or not"
   ]
  },
  {
   "cell_type": "code",
   "execution_count": 213,
   "id": "45bcf757",
   "metadata": {},
   "outputs": [
    {
     "data": {
      "text/plain": [
       "True"
      ]
     },
     "execution_count": 213,
     "metadata": {},
     "output_type": "execute_result"
    }
   ],
   "source": [
    "s1 = {3,4}\n",
    "s2 = {1,2}\n",
    "s1.isdisjoint(s2)"
   ]
  },
  {
   "cell_type": "code",
   "execution_count": 214,
   "id": "721bc1b1",
   "metadata": {},
   "outputs": [
    {
     "data": {
      "text/plain": [
       "False"
      ]
     },
     "execution_count": 214,
     "metadata": {},
     "output_type": "execute_result"
    }
   ],
   "source": [
    "s1 = {3,1,4}\n",
    "s2 = {1,2}\n",
    "s1.isdisjoint(s2)"
   ]
  },
  {
   "cell_type": "markdown",
   "id": "e8fb2570",
   "metadata": {},
   "source": [
    "###### issubset()\tReturns whether another set contains this set or not"
   ]
  },
  {
   "cell_type": "code",
   "execution_count": 216,
   "id": "5f984fd9",
   "metadata": {},
   "outputs": [
    {
     "data": {
      "text/plain": [
       "False"
      ]
     },
     "execution_count": 216,
     "metadata": {},
     "output_type": "execute_result"
    }
   ],
   "source": [
    "s1 = {3,1,4}\n",
    "s2 = {1,2}\n",
    "s2.issubset(s1)"
   ]
  },
  {
   "cell_type": "code",
   "execution_count": 217,
   "id": "e39476c8",
   "metadata": {},
   "outputs": [
    {
     "data": {
      "text/plain": [
       "True"
      ]
     },
     "execution_count": 217,
     "metadata": {},
     "output_type": "execute_result"
    }
   ],
   "source": [
    "s1 = {3,1,2,4}\n",
    "s2 = {1,2}\n",
    "s2.issubset(s1)"
   ]
  },
  {
   "cell_type": "markdown",
   "id": "475c3778",
   "metadata": {},
   "source": [
    "###### issuperset()\tReturns whether this set contains another set or not"
   ]
  },
  {
   "cell_type": "code",
   "execution_count": 220,
   "id": "19ed8ab4",
   "metadata": {},
   "outputs": [
    {
     "data": {
      "text/plain": [
       "False"
      ]
     },
     "execution_count": 220,
     "metadata": {},
     "output_type": "execute_result"
    }
   ],
   "source": [
    "s1 = {3,1,4}\n",
    "s2 = {1,2}\n",
    "s1.issuperset(s2)"
   ]
  },
  {
   "cell_type": "code",
   "execution_count": 221,
   "id": "f411e7e7",
   "metadata": {},
   "outputs": [
    {
     "data": {
      "text/plain": [
       "True"
      ]
     },
     "execution_count": 221,
     "metadata": {},
     "output_type": "execute_result"
    }
   ],
   "source": [
    "s1 = {3,1,2,4}\n",
    "s2 = {1,2}\n",
    "s1.issuperset(s2)"
   ]
  },
  {
   "cell_type": "markdown",
   "id": "305c42b2",
   "metadata": {},
   "source": [
    "###### pop()\tRemoves an element from the set"
   ]
  },
  {
   "cell_type": "code",
   "execution_count": 224,
   "id": "8fa1d8a1",
   "metadata": {},
   "outputs": [
    {
     "data": {
      "text/plain": [
       "{1, 2, 3, 4}"
      ]
     },
     "execution_count": 224,
     "metadata": {},
     "output_type": "execute_result"
    }
   ],
   "source": [
    "s1 = {3,1,2,4}\n",
    "s1"
   ]
  },
  {
   "cell_type": "code",
   "execution_count": 225,
   "id": "b99dd97a",
   "metadata": {},
   "outputs": [
    {
     "data": {
      "text/plain": [
       "1"
      ]
     },
     "execution_count": 225,
     "metadata": {},
     "output_type": "execute_result"
    }
   ],
   "source": [
    "s1.pop() #pop doesnot take any argument in sets"
   ]
  },
  {
   "cell_type": "code",
   "execution_count": 226,
   "id": "f53d795b",
   "metadata": {},
   "outputs": [
    {
     "data": {
      "text/plain": [
       "{2, 3, 4}"
      ]
     },
     "execution_count": 226,
     "metadata": {},
     "output_type": "execute_result"
    }
   ],
   "source": [
    "s1"
   ]
  },
  {
   "cell_type": "markdown",
   "id": "2cd7a989",
   "metadata": {},
   "source": [
    "###### remove()\tRemoves the specified element"
   ]
  },
  {
   "cell_type": "code",
   "execution_count": 232,
   "id": "274f2b53",
   "metadata": {},
   "outputs": [
    {
     "data": {
      "text/plain": [
       "{1, 2, 3, 4}"
      ]
     },
     "execution_count": 232,
     "metadata": {},
     "output_type": "execute_result"
    }
   ],
   "source": [
    "s1 = {3,1,2,4}\n",
    "s1"
   ]
  },
  {
   "cell_type": "code",
   "execution_count": 233,
   "id": "4951a3c9",
   "metadata": {},
   "outputs": [
    {
     "data": {
      "text/plain": [
       "{1, 2, 4}"
      ]
     },
     "execution_count": 233,
     "metadata": {},
     "output_type": "execute_result"
    }
   ],
   "source": [
    "s1.remove(3)\n",
    "s1"
   ]
  },
  {
   "cell_type": "code",
   "execution_count": 229,
   "id": "2afed4c3",
   "metadata": {},
   "outputs": [
    {
     "ename": "KeyError",
     "evalue": "7",
     "output_type": "error",
     "traceback": [
      "\u001b[1;31m---------------------------------------------------------------------------\u001b[0m",
      "\u001b[1;31mKeyError\u001b[0m                                  Traceback (most recent call last)",
      "\u001b[1;32m~\\AppData\\Local\\Temp\\ipykernel_13240\\3205015142.py\u001b[0m in \u001b[0;36m<module>\u001b[1;34m\u001b[0m\n\u001b[1;32m----> 1\u001b[1;33m \u001b[0ms1\u001b[0m\u001b[1;33m.\u001b[0m\u001b[0mremove\u001b[0m\u001b[1;33m(\u001b[0m\u001b[1;36m7\u001b[0m\u001b[1;33m)\u001b[0m\u001b[1;33m\u001b[0m\u001b[1;33m\u001b[0m\u001b[0m\n\u001b[0m",
      "\u001b[1;31mKeyError\u001b[0m: 7"
     ]
    }
   ],
   "source": [
    "s1.remove(7) # gives error if it could not find the specified value"
   ]
  },
  {
   "cell_type": "markdown",
   "id": "bcdb927e",
   "metadata": {},
   "source": [
    "###### symmetric_difference()\tReturns a set with the symmetric differences of two sets"
   ]
  },
  {
   "cell_type": "code",
   "execution_count": 234,
   "id": "6f6517ab",
   "metadata": {},
   "outputs": [
    {
     "data": {
      "text/plain": [
       "{3, 6}"
      ]
     },
     "execution_count": 234,
     "metadata": {},
     "output_type": "execute_result"
    }
   ],
   "source": [
    "s1 = {1,2,3}\n",
    "s2 = {6,1,2}\n",
    "s1.symmetric_difference(s2) # gives output of s2-s1 and s1-s2"
   ]
  },
  {
   "cell_type": "code",
   "execution_count": 235,
   "id": "15e12820",
   "metadata": {},
   "outputs": [
    {
     "data": {
      "text/plain": [
       "{3, 6}"
      ]
     },
     "execution_count": 235,
     "metadata": {},
     "output_type": "execute_result"
    }
   ],
   "source": [
    "s1 = {1,2,3}\n",
    "s2 = {6,1,2}\n",
    "s2.symmetric_difference(s1) # gives output of s2-s1 and s1-s2"
   ]
  },
  {
   "cell_type": "markdown",
   "id": "42ccc505",
   "metadata": {},
   "source": [
    "###### symmetric_difference_update()\tinserts the symmetric differences from this set and another"
   ]
  },
  {
   "cell_type": "code",
   "execution_count": 237,
   "id": "453bbfc6",
   "metadata": {},
   "outputs": [
    {
     "data": {
      "text/plain": [
       "{3, 6}"
      ]
     },
     "execution_count": 237,
     "metadata": {},
     "output_type": "execute_result"
    }
   ],
   "source": [
    "s1 = {1,2,3}\n",
    "s2 = {6,1,2}\n",
    "s2.symmetric_difference_update(s1) # update the result in s2\n",
    "s2"
   ]
  },
  {
   "cell_type": "code",
   "execution_count": 239,
   "id": "8a88eb82",
   "metadata": {},
   "outputs": [
    {
     "data": {
      "text/plain": [
       "{3, 6}"
      ]
     },
     "execution_count": 239,
     "metadata": {},
     "output_type": "execute_result"
    }
   ],
   "source": [
    "s1 = {1,2,3}\n",
    "s2 = {6,1,2}\n",
    "s1.symmetric_difference_update(s2) # update the result in s1\n",
    "s1"
   ]
  },
  {
   "cell_type": "markdown",
   "id": "9dcecbe6",
   "metadata": {},
   "source": [
    "###### union()\tReturn a set containing the union of sets"
   ]
  },
  {
   "cell_type": "code",
   "execution_count": 241,
   "id": "ba99ac85",
   "metadata": {},
   "outputs": [
    {
     "data": {
      "text/plain": [
       "{1, 2, 3, 6, 7}"
      ]
     },
     "execution_count": 241,
     "metadata": {},
     "output_type": "execute_result"
    }
   ],
   "source": [
    "s1 = {1,2,3}\n",
    "s2 = {6,1,2,7}\n",
    "s1.union(s2)"
   ]
  },
  {
   "cell_type": "markdown",
   "id": "18f7006d",
   "metadata": {},
   "source": [
    "###### update()\tUpdate the set with another set, or any other iterable"
   ]
  },
  {
   "cell_type": "code",
   "execution_count": 244,
   "id": "d85ab9e3",
   "metadata": {},
   "outputs": [
    {
     "data": {
      "text/plain": [
       "{1, 2, 3}"
      ]
     },
     "execution_count": 244,
     "metadata": {},
     "output_type": "execute_result"
    }
   ],
   "source": [
    "s1 = {1,2,3}\n",
    "s1"
   ]
  },
  {
   "cell_type": "code",
   "execution_count": 245,
   "id": "c6092ba8",
   "metadata": {},
   "outputs": [
    {
     "data": {
      "text/plain": [
       "{1, 2, 3, 5, 6, 7}"
      ]
     },
     "execution_count": 245,
     "metadata": {},
     "output_type": "execute_result"
    }
   ],
   "source": [
    "s1.update({5,6,7})\n",
    "s1"
   ]
  },
  {
   "cell_type": "markdown",
   "id": "80775c6f",
   "metadata": {},
   "source": [
    "# Sorted() Function\n",
    "##### used to sort any iterable or sequence of items (such as strings,tuples, lists, sets)\n",
    "##### and will always return the sorted list"
   ]
  },
  {
   "cell_type": "code",
   "execution_count": 246,
   "id": "2692b014",
   "metadata": {},
   "outputs": [
    {
     "data": {
      "text/plain": [
       "tuple"
      ]
     },
     "execution_count": 246,
     "metadata": {},
     "output_type": "execute_result"
    }
   ],
   "source": [
    "tup1 = (190,2,31,34)\n",
    "type(tup1)"
   ]
  },
  {
   "cell_type": "code",
   "execution_count": 247,
   "id": "e41a3bbb",
   "metadata": {},
   "outputs": [
    {
     "data": {
      "text/plain": [
       "[2, 31, 34, 190]"
      ]
     },
     "execution_count": 247,
     "metadata": {},
     "output_type": "execute_result"
    }
   ],
   "source": [
    "sorted(tup1)"
   ]
  },
  {
   "cell_type": "code",
   "execution_count": 248,
   "id": "e9d6969a",
   "metadata": {},
   "outputs": [
    {
     "data": {
      "text/plain": [
       "[190, 34, 31, 2]"
      ]
     },
     "execution_count": 248,
     "metadata": {},
     "output_type": "execute_result"
    }
   ],
   "source": [
    "sorted(tup1,reverse=True) #return in descending order"
   ]
  },
  {
   "cell_type": "code",
   "execution_count": 249,
   "id": "28ad97a8",
   "metadata": {},
   "outputs": [
    {
     "data": {
      "text/plain": [
       "set"
      ]
     },
     "execution_count": 249,
     "metadata": {},
     "output_type": "execute_result"
    }
   ],
   "source": [
    "s1 = {190,2,31,34}\n",
    "type(s1)"
   ]
  },
  {
   "cell_type": "code",
   "execution_count": 250,
   "id": "e588bcee",
   "metadata": {},
   "outputs": [
    {
     "data": {
      "text/plain": [
       "[2, 31, 34, 190]"
      ]
     },
     "execution_count": 250,
     "metadata": {},
     "output_type": "execute_result"
    }
   ],
   "source": [
    "sorted(s1)"
   ]
  },
  {
   "cell_type": "code",
   "execution_count": 252,
   "id": "6060b61c",
   "metadata": {},
   "outputs": [
    {
     "data": {
      "text/plain": [
       "[190, 34, 31, 2]"
      ]
     },
     "execution_count": 252,
     "metadata": {},
     "output_type": "execute_result"
    }
   ],
   "source": [
    "sorted(s1,reverse = True)"
   ]
  },
  {
   "cell_type": "code",
   "execution_count": 253,
   "id": "2fdb00ae",
   "metadata": {},
   "outputs": [
    {
     "data": {
      "text/plain": [
       "str"
      ]
     },
     "execution_count": 253,
     "metadata": {},
     "output_type": "execute_result"
    }
   ],
   "source": [
    "string1 = 'Python'\n",
    "type(string1)"
   ]
  },
  {
   "cell_type": "code",
   "execution_count": 254,
   "id": "8e2ea8b0",
   "metadata": {},
   "outputs": [
    {
     "data": {
      "text/plain": [
       "['P', 'h', 'n', 'o', 't', 'y']"
      ]
     },
     "execution_count": 254,
     "metadata": {},
     "output_type": "execute_result"
    }
   ],
   "source": [
    "sorted(string1)"
   ]
  },
  {
   "cell_type": "code",
   "execution_count": 255,
   "id": "2809709d",
   "metadata": {},
   "outputs": [
    {
     "data": {
      "text/plain": [
       "['y', 't', 'o', 'n', 'h', 'P']"
      ]
     },
     "execution_count": 255,
     "metadata": {},
     "output_type": "execute_result"
    }
   ],
   "source": [
    "sorted(string1,reverse=True)"
   ]
  },
  {
   "cell_type": "code",
   "execution_count": 261,
   "id": "8e87424e",
   "metadata": {},
   "outputs": [
    {
     "data": {
      "text/plain": [
       "dict"
      ]
     },
     "execution_count": 261,
     "metadata": {},
     "output_type": "execute_result"
    }
   ],
   "source": [
    "d1={1:'3',4:'4',3:'p'}\n",
    "type(d1)"
   ]
  },
  {
   "cell_type": "code",
   "execution_count": 259,
   "id": "88c9e242",
   "metadata": {},
   "outputs": [
    {
     "data": {
      "text/plain": [
       "[1, 3, 4]"
      ]
     },
     "execution_count": 259,
     "metadata": {},
     "output_type": "execute_result"
    }
   ],
   "source": [
    "sorted(d1) #returns the sorted keys of dictionary"
   ]
  },
  {
   "cell_type": "code",
   "execution_count": 260,
   "id": "43cb6a14",
   "metadata": {},
   "outputs": [
    {
     "data": {
      "text/plain": [
       "[4, 3, 1]"
      ]
     },
     "execution_count": 260,
     "metadata": {},
     "output_type": "execute_result"
    }
   ],
   "source": [
    "sorted(d1,reverse=True) #returns the sorted keys of dictionary in descending order"
   ]
  },
  {
   "cell_type": "code",
   "execution_count": 262,
   "id": "88952cdd",
   "metadata": {},
   "outputs": [
    {
     "data": {
      "text/plain": [
       "['qa', 'nb', 'lo', 'mu']"
      ]
     },
     "execution_count": 262,
     "metadata": {},
     "output_type": "execute_result"
    }
   ],
   "source": [
    "l=['nb','mu','qa','lo']\n",
    "#sorting the list on the basis of second element of the list item\n",
    "sorted(l,key=lambda x: x[1])"
   ]
  },
  {
   "cell_type": "code",
   "execution_count": 273,
   "id": "fa53b72d",
   "metadata": {},
   "outputs": [
    {
     "data": {
      "text/plain": [
       "['nb', 'lo', 'qa', 'mu']"
      ]
     },
     "execution_count": 273,
     "metadata": {},
     "output_type": "execute_result"
    }
   ],
   "source": [
    "#sorting the list based on the maximum element in each item of the list.\n",
    "sorted(l,key=max) #passing the max fuction in key\n",
    "#here the max function will be applied to each item of the list"
   ]
  },
  {
   "cell_type": "markdown",
   "id": "12e4f7c9",
   "metadata": {},
   "source": [
    "# zip() function\n",
    "##### Zip the 2 iterables with the same index"
   ]
  },
  {
   "cell_type": "code",
   "execution_count": 264,
   "id": "9cfea115",
   "metadata": {},
   "outputs": [
    {
     "data": {
      "text/plain": [
       "[('Raj', 78), ('Sid', 45), ('Geeta', 100), ('Parth', 89)]"
      ]
     },
     "execution_count": 264,
     "metadata": {},
     "output_type": "execute_result"
    }
   ],
   "source": [
    "names = ['Raj','Sid','Geeta','Parth']\n",
    "marks = [78, 45, 100, 89]\n",
    "list(zip(names,marks))"
   ]
  },
  {
   "cell_type": "markdown",
   "id": "c6ac6a0d",
   "metadata": {},
   "source": [
    "# enumerate() function\n",
    "##### gives the index and value both for every item of iterable"
   ]
  },
  {
   "cell_type": "code",
   "execution_count": 266,
   "id": "5dd570df",
   "metadata": {},
   "outputs": [
    {
     "data": {
      "text/plain": [
       "[(0, 'Raj'), (1, 'Sid'), (2, 'Geeta'), (3, 'Parth')]"
      ]
     },
     "execution_count": 266,
     "metadata": {},
     "output_type": "execute_result"
    }
   ],
   "source": [
    "list(enumerate(names))"
   ]
  },
  {
   "cell_type": "code",
   "execution_count": 268,
   "id": "31cc164a",
   "metadata": {},
   "outputs": [
    {
     "data": {
      "text/plain": [
       "[(0, 'P'),\n",
       " (1, 'r'),\n",
       " (2, 'o'),\n",
       " (3, 'g'),\n",
       " (4, 'r'),\n",
       " (5, 'a'),\n",
       " (6, 'm'),\n",
       " (7, 'm'),\n",
       " (8, 'i'),\n",
       " (9, 'n'),\n",
       " (10, 'g')]"
      ]
     },
     "execution_count": 268,
     "metadata": {},
     "output_type": "execute_result"
    }
   ],
   "source": [
    "list(enumerate('Programming'))"
   ]
  },
  {
   "cell_type": "markdown",
   "id": "fecc6844",
   "metadata": {},
   "source": [
    "# map() function\n",
    "##### takes 2 argument function and iterable or sequence\n",
    "##### used to apply any particular function to each item of iterable"
   ]
  },
  {
   "cell_type": "code",
   "execution_count": 269,
   "id": "884af8b4",
   "metadata": {},
   "outputs": [
    {
     "data": {
      "text/plain": [
       "str"
      ]
     },
     "execution_count": 269,
     "metadata": {},
     "output_type": "execute_result"
    }
   ],
   "source": [
    "l1 = ['1','2','3','4']\n",
    "# The type of every element in l1 is string\n",
    "type(l1[0])"
   ]
  },
  {
   "cell_type": "code",
   "execution_count": 270,
   "id": "bbc95322",
   "metadata": {},
   "outputs": [
    {
     "data": {
      "text/plain": [
       "[1, 2, 3, 4]"
      ]
     },
     "execution_count": 270,
     "metadata": {},
     "output_type": "execute_result"
    }
   ],
   "source": [
    "# Need to convert the every element of the list to int \n",
    "list(map(int,l1))"
   ]
  },
  {
   "cell_type": "markdown",
   "id": "508b5e9e",
   "metadata": {},
   "source": [
    "# filter() function\n",
    "##### takes 2 argument function that returns true or false and iterable or sequence\n",
    "##### used to apply any particular function to each item of iterable \n",
    "##### and filter out the elements that returns false while applying the function"
   ]
  },
  {
   "cell_type": "code",
   "execution_count": 271,
   "id": "c3715bc2",
   "metadata": {},
   "outputs": [
    {
     "data": {
      "text/plain": [
       "['1', '23', 'ss1', '45', '45#', '56@@', 'awe']"
      ]
     },
     "execution_count": 271,
     "metadata": {},
     "output_type": "execute_result"
    }
   ],
   "source": [
    "list1 = ['1','23','ss1', '45','45#','56@@', 'awe']\n",
    "list1"
   ]
  },
  {
   "cell_type": "markdown",
   "id": "5cd36ac8",
   "metadata": {},
   "source": [
    "##### Only keep the items from the above lists that has only digits and remove the all the other items"
   ]
  },
  {
   "cell_type": "code",
   "execution_count": 276,
   "id": "c570f03e",
   "metadata": {},
   "outputs": [
    {
     "data": {
      "text/plain": [
       "['1', '23', '45']"
      ]
     },
     "execution_count": 276,
     "metadata": {},
     "output_type": "execute_result"
    }
   ],
   "source": [
    "list(filter(str.isdigit,list1))"
   ]
  },
  {
   "cell_type": "markdown",
   "id": "a80482ae",
   "metadata": {},
   "source": [
    "# reduce() function\n",
    "##### takes 2 argument function and iterable or sequence\n",
    "##### used to apply any particular function to each item of iterable \n",
    "##### and reduce the sequence to single value"
   ]
  },
  {
   "cell_type": "markdown",
   "id": "732e81ad",
   "metadata": {},
   "source": [
    "##### To get the multiplication of the items in the lists"
   ]
  },
  {
   "cell_type": "code",
   "execution_count": 279,
   "id": "373bbd9d",
   "metadata": {},
   "outputs": [
    {
     "data": {
      "text/plain": [
       "[1, 2, 3, 5, 7]"
      ]
     },
     "execution_count": 279,
     "metadata": {},
     "output_type": "execute_result"
    }
   ],
   "source": [
    "list2 = [1,2,3,5,7]\n",
    "list2"
   ]
  },
  {
   "cell_type": "code",
   "execution_count": 280,
   "id": "63ac7361",
   "metadata": {},
   "outputs": [
    {
     "data": {
      "text/plain": [
       "210"
      ]
     },
     "execution_count": 280,
     "metadata": {},
     "output_type": "execute_result"
    }
   ],
   "source": [
    "from functools import reduce\n",
    "reduce(lambda x,y : x*y, list2)"
   ]
  },
  {
   "cell_type": "markdown",
   "id": "1526d5b5",
   "metadata": {},
   "source": [
    "# User Defined functions\n",
    "The functions that are created or defined by the user based on its needs\n",
    "Syntax: def function_name(arguments):\n",
    "                body\n",
    "                return"
   ]
  },
  {
   "cell_type": "code",
   "execution_count": 281,
   "id": "b61fc4dc",
   "metadata": {},
   "outputs": [],
   "source": [
    "#Example function to add 2 numbers\n",
    "def add(a,b):\n",
    "    return a+b"
   ]
  },
  {
   "cell_type": "code",
   "execution_count": 282,
   "id": "f32e72b0",
   "metadata": {},
   "outputs": [
    {
     "data": {
      "text/plain": [
       "5"
      ]
     },
     "execution_count": 282,
     "metadata": {},
     "output_type": "execute_result"
    }
   ],
   "source": [
    "add(2,3)"
   ]
  },
  {
   "cell_type": "markdown",
   "id": "a5050113",
   "metadata": {},
   "source": [
    "# Recurssion\n",
    "Function that call itself "
   ]
  },
  {
   "cell_type": "code",
   "execution_count": 284,
   "id": "9045173e",
   "metadata": {},
   "outputs": [],
   "source": [
    "# Recursive function for finding a factorial of a number\n",
    "def fact(n):\n",
    "    if n == 1:\n",
    "        return 1\n",
    "    return n * fact(n-1)"
   ]
  },
  {
   "cell_type": "code",
   "execution_count": 285,
   "id": "5b399b9f",
   "metadata": {},
   "outputs": [
    {
     "data": {
      "text/plain": [
       "120"
      ]
     },
     "execution_count": 285,
     "metadata": {},
     "output_type": "execute_result"
    }
   ],
   "source": [
    "fact(5)"
   ]
  },
  {
   "cell_type": "markdown",
   "id": "a7dd0c29",
   "metadata": {},
   "source": [
    "# Lambda Expression\n",
    "Lambda is an anonymous function\n",
    "syntax : variable_name = lambda arguments: return value"
   ]
  },
  {
   "cell_type": "code",
   "execution_count": 286,
   "id": "f1518d10",
   "metadata": {},
   "outputs": [
    {
     "data": {
      "text/plain": [
       "'Even'"
      ]
     },
     "execution_count": 286,
     "metadata": {},
     "output_type": "execute_result"
    }
   ],
   "source": [
    "# Creating a Lambda function to find whether a number is even or odd\n",
    "x = lambda arg: 'Even' if arg%2 == 0 else 'Odd'\n",
    "x(2)"
   ]
  },
  {
   "cell_type": "code",
   "execution_count": 287,
   "id": "78573c74",
   "metadata": {},
   "outputs": [
    {
     "data": {
      "text/plain": [
       "'Odd'"
      ]
     },
     "execution_count": 287,
     "metadata": {},
     "output_type": "execute_result"
    }
   ],
   "source": [
    "x(3)"
   ]
  }
 ],
 "metadata": {
  "kernelspec": {
   "display_name": "Python 3 (ipykernel)",
   "language": "python",
   "name": "python3"
  },
  "language_info": {
   "codemirror_mode": {
    "name": "ipython",
    "version": 3
   },
   "file_extension": ".py",
   "mimetype": "text/x-python",
   "name": "python",
   "nbconvert_exporter": "python",
   "pygments_lexer": "ipython3",
   "version": "3.9.13"
  }
 },
 "nbformat": 4,
 "nbformat_minor": 5
}
